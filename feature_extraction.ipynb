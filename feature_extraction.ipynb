{
 "cells": [
  {
   "cell_type": "code",
   "execution_count": 1,
   "outputs": [],
   "source": [
    "from url_based_feature import extract_url_features\n",
    "from domain_based_feature import extract_domain_features\n",
    "from directory_based_feature import extract_directory_features\n",
    "from file_based_feature import extract_file_features\n",
    "from parameter_based_feature import extract_params_features\n",
    "from external_service_feature import extract_features\n",
    "from url_feature import get_url_feature"
   ],
   "metadata": {
    "collapsed": false,
    "pycharm": {
     "name": "#%%\n"
    },
    "ExecuteTime": {
     "end_time": "2023-06-13T22:13:55.946254300Z",
     "start_time": "2023-06-13T22:13:55.604542900Z"
    }
   }
  },
  {
   "cell_type": "code",
   "execution_count": 2,
   "outputs": [],
   "source": [
    "import pandas as pd"
   ],
   "metadata": {
    "collapsed": false,
    "pycharm": {
     "name": "#%%\n"
    },
    "ExecuteTime": {
     "end_time": "2023-06-13T22:13:56.001104800Z",
     "start_time": "2023-06-13T22:13:55.955862900Z"
    }
   }
  },
  {
   "cell_type": "code",
   "execution_count": 3,
   "outputs": [],
   "source": [
    "df = pd.read_csv('dataset_phishing.csv')"
   ],
   "metadata": {
    "collapsed": false,
    "pycharm": {
     "name": "#%%\n"
    },
    "ExecuteTime": {
     "end_time": "2023-06-13T22:13:56.096234500Z",
     "start_time": "2023-06-13T22:13:55.957877400Z"
    }
   }
  },
  {
   "cell_type": "code",
   "execution_count": 4,
   "outputs": [],
   "source": [
    "URL = df['url']"
   ],
   "metadata": {
    "collapsed": false,
    "pycharm": {
     "name": "#%%\n"
    },
    "ExecuteTime": {
     "end_time": "2023-06-13T22:13:56.105938800Z",
     "start_time": "2023-06-13T22:13:56.096234500Z"
    }
   }
  },
  {
   "cell_type": "code",
   "execution_count": 5,
   "outputs": [
    {
     "data": {
      "text/plain": "'http://www.crestonwood.com/router.php'"
     },
     "execution_count": 5,
     "metadata": {},
     "output_type": "execute_result"
    }
   ],
   "source": [
    "URL[0]"
   ],
   "metadata": {
    "collapsed": false,
    "pycharm": {
     "name": "#%%\n"
    },
    "ExecuteTime": {
     "end_time": "2023-06-13T22:13:56.116002600Z",
     "start_time": "2023-06-13T22:13:56.108483500Z"
    }
   }
  },
  {
   "cell_type": "code",
   "execution_count": 6,
   "outputs": [],
   "source": [
    "domain, directory, file, parameter = get_url_feature(URL[0])"
   ],
   "metadata": {
    "collapsed": false,
    "pycharm": {
     "name": "#%%\n"
    },
    "ExecuteTime": {
     "end_time": "2023-06-13T22:13:56.187716900Z",
     "start_time": "2023-06-13T22:13:56.124251600Z"
    }
   }
  },
  {
   "cell_type": "code",
   "execution_count": 7,
   "outputs": [],
   "source": [
    "df1 = extract_url_features(URL[0])"
   ],
   "metadata": {
    "collapsed": false,
    "pycharm": {
     "name": "#%%\n"
    },
    "ExecuteTime": {
     "end_time": "2023-06-13T22:13:56.203494400Z",
     "start_time": "2023-06-13T22:13:56.125746700Z"
    }
   }
  },
  {
   "cell_type": "code",
   "execution_count": 8,
   "outputs": [
    {
     "data": {
      "text/plain": "   qty_dot_url  qty_hyphen_url  qty_underline_url  qty_slash_url  \\\n0            3               0                  0              3   \n\n   qty_questionmark_url  qty_equal_url  qty_at_url  qty_and_url  \\\n0                     0              0           0            0   \n\n   qty_exclamation_url  qty_space_url  qty_tilde_url  qty_comma_url  \\\n0                    0              0              0              0   \n\n   qty_plus_url  qty_asterisk_url  qty_hashtag_url  qty_dollar_url  \\\n0             0                 0                0               0   \n\n   qty_percent_url  qty_tld_url  length_url  email_in_url  \n0                0            3          37         False  ",
      "text/html": "<div>\n<style scoped>\n    .dataframe tbody tr th:only-of-type {\n        vertical-align: middle;\n    }\n\n    .dataframe tbody tr th {\n        vertical-align: top;\n    }\n\n    .dataframe thead th {\n        text-align: right;\n    }\n</style>\n<table border=\"1\" class=\"dataframe\">\n  <thead>\n    <tr style=\"text-align: right;\">\n      <th></th>\n      <th>qty_dot_url</th>\n      <th>qty_hyphen_url</th>\n      <th>qty_underline_url</th>\n      <th>qty_slash_url</th>\n      <th>qty_questionmark_url</th>\n      <th>qty_equal_url</th>\n      <th>qty_at_url</th>\n      <th>qty_and_url</th>\n      <th>qty_exclamation_url</th>\n      <th>qty_space_url</th>\n      <th>qty_tilde_url</th>\n      <th>qty_comma_url</th>\n      <th>qty_plus_url</th>\n      <th>qty_asterisk_url</th>\n      <th>qty_hashtag_url</th>\n      <th>qty_dollar_url</th>\n      <th>qty_percent_url</th>\n      <th>qty_tld_url</th>\n      <th>length_url</th>\n      <th>email_in_url</th>\n    </tr>\n  </thead>\n  <tbody>\n    <tr>\n      <th>0</th>\n      <td>3</td>\n      <td>0</td>\n      <td>0</td>\n      <td>3</td>\n      <td>0</td>\n      <td>0</td>\n      <td>0</td>\n      <td>0</td>\n      <td>0</td>\n      <td>0</td>\n      <td>0</td>\n      <td>0</td>\n      <td>0</td>\n      <td>0</td>\n      <td>0</td>\n      <td>0</td>\n      <td>0</td>\n      <td>3</td>\n      <td>37</td>\n      <td>False</td>\n    </tr>\n  </tbody>\n</table>\n</div>"
     },
     "execution_count": 8,
     "metadata": {},
     "output_type": "execute_result"
    }
   ],
   "source": [
    "df1"
   ],
   "metadata": {
    "collapsed": false,
    "pycharm": {
     "name": "#%%\n"
    },
    "ExecuteTime": {
     "end_time": "2023-06-13T22:13:56.206012900Z",
     "start_time": "2023-06-13T22:13:56.145782700Z"
    }
   }
  },
  {
   "cell_type": "code",
   "execution_count": 9,
   "outputs": [],
   "source": [
    "df2 = extract_domain_features(domain)"
   ],
   "metadata": {
    "collapsed": false,
    "pycharm": {
     "name": "#%%\n"
    },
    "ExecuteTime": {
     "end_time": "2023-06-13T22:13:56.206012900Z",
     "start_time": "2023-06-13T22:13:56.165929500Z"
    }
   }
  },
  {
   "cell_type": "code",
   "execution_count": 10,
   "outputs": [
    {
     "data": {
      "text/plain": "   qty_dot_domain  qty_hyphen_domain  qty_underline_domain  qty_slash_domain  \\\n0               2                  0                     0                 0   \n\n   qty_questionmark_domain  qty_equal_domain  qty_at_domain  qty_and_domain  \\\n0                        0                 0              0               0   \n\n   qty_exclamation_domain  qty_space_domain  ...  qty_comma_domain  \\\n0                       0                 0  ...                 0   \n\n   qty_plus_domain  qty_asterisk_domain  qty_hashtag_domain  \\\n0                0                    0                   0   \n\n   qty_dollar_domain  qty_percent_domain  qty_vowels_domain  domain_length  \\\n0                  0                   0                  5             19   \n\n   domain_in_ip  server_client_domain  \n0             0                     0  \n\n[1 rows x 21 columns]",
      "text/html": "<div>\n<style scoped>\n    .dataframe tbody tr th:only-of-type {\n        vertical-align: middle;\n    }\n\n    .dataframe tbody tr th {\n        vertical-align: top;\n    }\n\n    .dataframe thead th {\n        text-align: right;\n    }\n</style>\n<table border=\"1\" class=\"dataframe\">\n  <thead>\n    <tr style=\"text-align: right;\">\n      <th></th>\n      <th>qty_dot_domain</th>\n      <th>qty_hyphen_domain</th>\n      <th>qty_underline_domain</th>\n      <th>qty_slash_domain</th>\n      <th>qty_questionmark_domain</th>\n      <th>qty_equal_domain</th>\n      <th>qty_at_domain</th>\n      <th>qty_and_domain</th>\n      <th>qty_exclamation_domain</th>\n      <th>qty_space_domain</th>\n      <th>...</th>\n      <th>qty_comma_domain</th>\n      <th>qty_plus_domain</th>\n      <th>qty_asterisk_domain</th>\n      <th>qty_hashtag_domain</th>\n      <th>qty_dollar_domain</th>\n      <th>qty_percent_domain</th>\n      <th>qty_vowels_domain</th>\n      <th>domain_length</th>\n      <th>domain_in_ip</th>\n      <th>server_client_domain</th>\n    </tr>\n  </thead>\n  <tbody>\n    <tr>\n      <th>0</th>\n      <td>2</td>\n      <td>0</td>\n      <td>0</td>\n      <td>0</td>\n      <td>0</td>\n      <td>0</td>\n      <td>0</td>\n      <td>0</td>\n      <td>0</td>\n      <td>0</td>\n      <td>...</td>\n      <td>0</td>\n      <td>0</td>\n      <td>0</td>\n      <td>0</td>\n      <td>0</td>\n      <td>0</td>\n      <td>5</td>\n      <td>19</td>\n      <td>0</td>\n      <td>0</td>\n    </tr>\n  </tbody>\n</table>\n<p>1 rows × 21 columns</p>\n</div>"
     },
     "execution_count": 10,
     "metadata": {},
     "output_type": "execute_result"
    }
   ],
   "source": [
    "df2"
   ],
   "metadata": {
    "collapsed": false,
    "pycharm": {
     "name": "#%%\n"
    },
    "ExecuteTime": {
     "end_time": "2023-06-13T22:13:56.206012900Z",
     "start_time": "2023-06-13T22:13:56.187716900Z"
    }
   }
  },
  {
   "cell_type": "code",
   "execution_count": 11,
   "outputs": [],
   "source": [
    "df3 = extract_file_features(file)"
   ],
   "metadata": {
    "collapsed": false,
    "pycharm": {
     "name": "#%%\n"
    },
    "ExecuteTime": {
     "end_time": "2023-06-13T22:13:56.206012900Z",
     "start_time": "2023-06-13T22:13:56.198820500Z"
    }
   }
  },
  {
   "cell_type": "code",
   "execution_count": 12,
   "outputs": [
    {
     "data": {
      "text/plain": "   qty_dot_file  qty_hyphen_file  qty_underline_file  qty_slash_file  \\\n0             1                0                   0               0   \n\n   qty_questionmark_file  qty_equal_file  qty_at_file  qty_and_file  \\\n0                      0               0            0             0   \n\n   qty_exclamation_file  qty_space_file  qty_tilde_file  qty_comma_file  \\\n0                     0               0               0               0   \n\n   qty_plus_file  qty_asterisk_file  qty_hashtag_file  qty_dollar_file  \\\n0              0                  0                 0                0   \n\n   qty_percent_file  file_length  \n0                 0           10  ",
      "text/html": "<div>\n<style scoped>\n    .dataframe tbody tr th:only-of-type {\n        vertical-align: middle;\n    }\n\n    .dataframe tbody tr th {\n        vertical-align: top;\n    }\n\n    .dataframe thead th {\n        text-align: right;\n    }\n</style>\n<table border=\"1\" class=\"dataframe\">\n  <thead>\n    <tr style=\"text-align: right;\">\n      <th></th>\n      <th>qty_dot_file</th>\n      <th>qty_hyphen_file</th>\n      <th>qty_underline_file</th>\n      <th>qty_slash_file</th>\n      <th>qty_questionmark_file</th>\n      <th>qty_equal_file</th>\n      <th>qty_at_file</th>\n      <th>qty_and_file</th>\n      <th>qty_exclamation_file</th>\n      <th>qty_space_file</th>\n      <th>qty_tilde_file</th>\n      <th>qty_comma_file</th>\n      <th>qty_plus_file</th>\n      <th>qty_asterisk_file</th>\n      <th>qty_hashtag_file</th>\n      <th>qty_dollar_file</th>\n      <th>qty_percent_file</th>\n      <th>file_length</th>\n    </tr>\n  </thead>\n  <tbody>\n    <tr>\n      <th>0</th>\n      <td>1</td>\n      <td>0</td>\n      <td>0</td>\n      <td>0</td>\n      <td>0</td>\n      <td>0</td>\n      <td>0</td>\n      <td>0</td>\n      <td>0</td>\n      <td>0</td>\n      <td>0</td>\n      <td>0</td>\n      <td>0</td>\n      <td>0</td>\n      <td>0</td>\n      <td>0</td>\n      <td>0</td>\n      <td>10</td>\n    </tr>\n  </tbody>\n</table>\n</div>"
     },
     "execution_count": 12,
     "metadata": {},
     "output_type": "execute_result"
    }
   ],
   "source": [
    "df3"
   ],
   "metadata": {
    "collapsed": false,
    "pycharm": {
     "name": "#%%\n"
    },
    "ExecuteTime": {
     "end_time": "2023-06-13T22:13:56.257250100Z",
     "start_time": "2023-06-13T22:13:56.206012900Z"
    }
   }
  },
  {
   "cell_type": "code",
   "execution_count": 13,
   "outputs": [
    {
     "data": {
      "text/plain": "   qty_dot_directory  qty_hyphen_directory  qty_underline_directory  \\\n0                  1                     0                        0   \n\n   qty_slash_directory  qty_questionmark_directory  qty_equal_directory  \\\n0                    1                           0                    0   \n\n   qty_at_directory  qty_and_directory  qty_exclamation_directory  \\\n0                 0                  0                          0   \n\n   qty_space_directory  qty_tilde_directory  qty_comma_directory  \\\n0                    0                    0                    0   \n\n   qty_plus_directory  qty_asterisk_directory  qty_hashtag_directory  \\\n0                   0                       0                      0   \n\n   qty_dollar_directory  qty_percent_directory  directory_length  \n0                     0                      0                11  ",
      "text/html": "<div>\n<style scoped>\n    .dataframe tbody tr th:only-of-type {\n        vertical-align: middle;\n    }\n\n    .dataframe tbody tr th {\n        vertical-align: top;\n    }\n\n    .dataframe thead th {\n        text-align: right;\n    }\n</style>\n<table border=\"1\" class=\"dataframe\">\n  <thead>\n    <tr style=\"text-align: right;\">\n      <th></th>\n      <th>qty_dot_directory</th>\n      <th>qty_hyphen_directory</th>\n      <th>qty_underline_directory</th>\n      <th>qty_slash_directory</th>\n      <th>qty_questionmark_directory</th>\n      <th>qty_equal_directory</th>\n      <th>qty_at_directory</th>\n      <th>qty_and_directory</th>\n      <th>qty_exclamation_directory</th>\n      <th>qty_space_directory</th>\n      <th>qty_tilde_directory</th>\n      <th>qty_comma_directory</th>\n      <th>qty_plus_directory</th>\n      <th>qty_asterisk_directory</th>\n      <th>qty_hashtag_directory</th>\n      <th>qty_dollar_directory</th>\n      <th>qty_percent_directory</th>\n      <th>directory_length</th>\n    </tr>\n  </thead>\n  <tbody>\n    <tr>\n      <th>0</th>\n      <td>1</td>\n      <td>0</td>\n      <td>0</td>\n      <td>1</td>\n      <td>0</td>\n      <td>0</td>\n      <td>0</td>\n      <td>0</td>\n      <td>0</td>\n      <td>0</td>\n      <td>0</td>\n      <td>0</td>\n      <td>0</td>\n      <td>0</td>\n      <td>0</td>\n      <td>0</td>\n      <td>0</td>\n      <td>11</td>\n    </tr>\n  </tbody>\n</table>\n</div>"
     },
     "execution_count": 13,
     "metadata": {},
     "output_type": "execute_result"
    }
   ],
   "source": [
    "df4 = extract_directory_features(directory)\n",
    "df4"
   ],
   "metadata": {
    "collapsed": false,
    "pycharm": {
     "name": "#%%\n"
    },
    "ExecuteTime": {
     "end_time": "2023-06-13T22:13:56.298816Z",
     "start_time": "2023-06-13T22:13:56.226087200Z"
    }
   }
  },
  {
   "cell_type": "code",
   "execution_count": 14,
   "outputs": [],
   "source": [
    "df5 = extract_params_features(parameter)"
   ],
   "metadata": {
    "collapsed": false,
    "pycharm": {
     "name": "#%%\n"
    },
    "ExecuteTime": {
     "end_time": "2023-06-13T22:13:56.362102200Z",
     "start_time": "2023-06-13T22:13:56.237962200Z"
    }
   }
  },
  {
   "cell_type": "code",
   "execution_count": 15,
   "outputs": [
    {
     "data": {
      "text/plain": "''"
     },
     "execution_count": 15,
     "metadata": {},
     "output_type": "execute_result"
    }
   ],
   "source": [
    "parameter"
   ],
   "metadata": {
    "collapsed": false,
    "pycharm": {
     "name": "#%%\n"
    },
    "ExecuteTime": {
     "end_time": "2023-06-13T22:13:56.377818100Z",
     "start_time": "2023-06-13T22:13:56.251080100Z"
    }
   }
  },
  {
   "cell_type": "code",
   "execution_count": 16,
   "outputs": [
    {
     "data": {
      "text/plain": "'/router.php'"
     },
     "execution_count": 16,
     "metadata": {},
     "output_type": "execute_result"
    }
   ],
   "source": [
    "directory"
   ],
   "metadata": {
    "collapsed": false,
    "pycharm": {
     "name": "#%%\n"
    },
    "ExecuteTime": {
     "end_time": "2023-06-13T22:13:56.401772500Z",
     "start_time": "2023-06-13T22:13:56.265848700Z"
    }
   }
  },
  {
   "cell_type": "code",
   "execution_count": 17,
   "outputs": [
    {
     "data": {
      "text/plain": "   qty_dot_params  qty_hyphen_params  qty_underline_params  qty_slash_params  \\\n0               0                  0                     0                 0   \n\n   qty_questionmark_params  qty_equal_params  qty_at_params  qty_and_params  \\\n0                        0                 0              0               0   \n\n   qty_exclamation_params  qty_space_params  qty_tilde_params  \\\n0                       0                 0                 0   \n\n   qty_comma_params  qty_plus_params  qty_asterisk_params  qty_hashtag_params  \\\n0                 0                0                    0                   0   \n\n   qty_dollar_params  qty_percent_params  params_length  tld_present_params  \\\n0                  0                   0              0                   0   \n\n   qty_params  \n0           0  ",
      "text/html": "<div>\n<style scoped>\n    .dataframe tbody tr th:only-of-type {\n        vertical-align: middle;\n    }\n\n    .dataframe tbody tr th {\n        vertical-align: top;\n    }\n\n    .dataframe thead th {\n        text-align: right;\n    }\n</style>\n<table border=\"1\" class=\"dataframe\">\n  <thead>\n    <tr style=\"text-align: right;\">\n      <th></th>\n      <th>qty_dot_params</th>\n      <th>qty_hyphen_params</th>\n      <th>qty_underline_params</th>\n      <th>qty_slash_params</th>\n      <th>qty_questionmark_params</th>\n      <th>qty_equal_params</th>\n      <th>qty_at_params</th>\n      <th>qty_and_params</th>\n      <th>qty_exclamation_params</th>\n      <th>qty_space_params</th>\n      <th>qty_tilde_params</th>\n      <th>qty_comma_params</th>\n      <th>qty_plus_params</th>\n      <th>qty_asterisk_params</th>\n      <th>qty_hashtag_params</th>\n      <th>qty_dollar_params</th>\n      <th>qty_percent_params</th>\n      <th>params_length</th>\n      <th>tld_present_params</th>\n      <th>qty_params</th>\n    </tr>\n  </thead>\n  <tbody>\n    <tr>\n      <th>0</th>\n      <td>0</td>\n      <td>0</td>\n      <td>0</td>\n      <td>0</td>\n      <td>0</td>\n      <td>0</td>\n      <td>0</td>\n      <td>0</td>\n      <td>0</td>\n      <td>0</td>\n      <td>0</td>\n      <td>0</td>\n      <td>0</td>\n      <td>0</td>\n      <td>0</td>\n      <td>0</td>\n      <td>0</td>\n      <td>0</td>\n      <td>0</td>\n      <td>0</td>\n    </tr>\n  </tbody>\n</table>\n</div>"
     },
     "execution_count": 17,
     "metadata": {},
     "output_type": "execute_result"
    }
   ],
   "source": [
    "df5"
   ],
   "metadata": {
    "collapsed": false,
    "pycharm": {
     "name": "#%%\n"
    },
    "ExecuteTime": {
     "end_time": "2023-06-13T22:13:56.478054100Z",
     "start_time": "2023-06-13T22:13:56.275740200Z"
    }
   }
  },
  {
   "cell_type": "code",
   "execution_count": 18,
   "outputs": [],
   "source": [
    "df6 = extract_features(URL[0])"
   ],
   "metadata": {
    "collapsed": false,
    "pycharm": {
     "name": "#%%\n"
    },
    "ExecuteTime": {
     "end_time": "2023-06-13T22:14:00.368527200Z",
     "start_time": "2023-06-13T22:13:56.286510800Z"
    }
   }
  },
  {
   "cell_type": "code",
   "execution_count": 19,
   "outputs": [
    {
     "data": {
      "text/plain": "   time_response  domain_spf  qty_ip_resolved  ttl_hostname  \\\n0              0           0                0             0   \n\n   tls_ssl_certificate  qty_redirects  url_google_index  domain_google_index  \\\n0                    0              0                 1                    1   \n\n   url_shortened  \n0              0  ",
      "text/html": "<div>\n<style scoped>\n    .dataframe tbody tr th:only-of-type {\n        vertical-align: middle;\n    }\n\n    .dataframe tbody tr th {\n        vertical-align: top;\n    }\n\n    .dataframe thead th {\n        text-align: right;\n    }\n</style>\n<table border=\"1\" class=\"dataframe\">\n  <thead>\n    <tr style=\"text-align: right;\">\n      <th></th>\n      <th>time_response</th>\n      <th>domain_spf</th>\n      <th>qty_ip_resolved</th>\n      <th>ttl_hostname</th>\n      <th>tls_ssl_certificate</th>\n      <th>qty_redirects</th>\n      <th>url_google_index</th>\n      <th>domain_google_index</th>\n      <th>url_shortened</th>\n    </tr>\n  </thead>\n  <tbody>\n    <tr>\n      <th>0</th>\n      <td>0</td>\n      <td>0</td>\n      <td>0</td>\n      <td>0</td>\n      <td>0</td>\n      <td>0</td>\n      <td>1</td>\n      <td>1</td>\n      <td>0</td>\n    </tr>\n  </tbody>\n</table>\n</div>"
     },
     "execution_count": 19,
     "metadata": {},
     "output_type": "execute_result"
    }
   ],
   "source": [
    "df6"
   ],
   "metadata": {
    "collapsed": false,
    "pycharm": {
     "name": "#%%\n"
    },
    "ExecuteTime": {
     "end_time": "2023-06-13T22:14:00.396009700Z",
     "start_time": "2023-06-13T22:14:00.376121200Z"
    }
   }
  },
  {
   "cell_type": "markdown",
   "source": [
    "Table 1. Dataset attributes based on URL.  (20 Columns)\n",
    "Table 2. Dataset attributes based on domain URL. (21 Columns)\n",
    "Table 3. Dataset attributes based on URL directory. (18 Columns)\n",
    "Table 4. Dataset attributes based on URL file name. (18 Columns)\n",
    "Table 5. Dataset attributes based on URL parameters. (20 Columns)\n",
    "Table 6. Dataset attributes based on resolving URL and external services. (16 Columns)"
   ],
   "metadata": {
    "collapsed": false,
    "pycharm": {
     "name": "#%% md\n"
    }
   }
  },
  {
   "cell_type": "code",
   "execution_count": 20,
   "outputs": [
    {
     "data": {
      "text/plain": "(1, 20)"
     },
     "execution_count": 20,
     "metadata": {},
     "output_type": "execute_result"
    }
   ],
   "source": [
    "df1.shape\n"
   ],
   "metadata": {
    "collapsed": false,
    "pycharm": {
     "name": "#%%\n"
    },
    "ExecuteTime": {
     "end_time": "2023-06-13T22:14:00.447707200Z",
     "start_time": "2023-06-13T22:14:00.396009700Z"
    }
   }
  },
  {
   "cell_type": "code",
   "execution_count": 21,
   "outputs": [
    {
     "data": {
      "text/plain": "(1, 21)"
     },
     "execution_count": 21,
     "metadata": {},
     "output_type": "execute_result"
    }
   ],
   "source": [
    "df2.shape"
   ],
   "metadata": {
    "collapsed": false,
    "pycharm": {
     "name": "#%%\n"
    },
    "ExecuteTime": {
     "end_time": "2023-06-13T22:14:00.447707200Z",
     "start_time": "2023-06-13T22:14:00.405928400Z"
    }
   }
  },
  {
   "cell_type": "code",
   "execution_count": 22,
   "outputs": [
    {
     "data": {
      "text/plain": "(1, 18)"
     },
     "execution_count": 22,
     "metadata": {},
     "output_type": "execute_result"
    }
   ],
   "source": [
    "df3.shape"
   ],
   "metadata": {
    "collapsed": false,
    "pycharm": {
     "name": "#%%\n"
    },
    "ExecuteTime": {
     "end_time": "2023-06-13T22:14:00.557770700Z",
     "start_time": "2023-06-13T22:14:00.426127700Z"
    }
   }
  },
  {
   "cell_type": "code",
   "execution_count": 23,
   "outputs": [
    {
     "data": {
      "text/plain": "(1, 18)"
     },
     "execution_count": 23,
     "metadata": {},
     "output_type": "execute_result"
    }
   ],
   "source": [
    "df4.shape"
   ],
   "metadata": {
    "collapsed": false,
    "pycharm": {
     "name": "#%%\n"
    },
    "ExecuteTime": {
     "end_time": "2023-06-13T22:14:00.576140400Z",
     "start_time": "2023-06-13T22:14:00.436006200Z"
    }
   }
  },
  {
   "cell_type": "code",
   "execution_count": 24,
   "outputs": [
    {
     "data": {
      "text/plain": "(1, 20)"
     },
     "execution_count": 24,
     "metadata": {},
     "output_type": "execute_result"
    }
   ],
   "source": [
    "df5.shape"
   ],
   "metadata": {
    "collapsed": false,
    "pycharm": {
     "name": "#%%\n"
    },
    "ExecuteTime": {
     "end_time": "2023-06-13T22:14:00.585899600Z",
     "start_time": "2023-06-13T22:14:00.447707200Z"
    }
   }
  },
  {
   "cell_type": "code",
   "execution_count": 25,
   "outputs": [
    {
     "data": {
      "text/plain": "(1, 9)"
     },
     "execution_count": 25,
     "metadata": {},
     "output_type": "execute_result"
    }
   ],
   "source": [
    "df6.shape"
   ],
   "metadata": {
    "collapsed": false,
    "pycharm": {
     "name": "#%%\n"
    },
    "ExecuteTime": {
     "end_time": "2023-06-13T22:14:00.626267200Z",
     "start_time": "2023-06-13T22:14:00.465985500Z"
    }
   }
  },
  {
   "cell_type": "code",
   "execution_count": 26,
   "outputs": [],
   "source": [
    "df_final = pd.concat([df1, df2, df3, df4, df5, df6], axis=1)"
   ],
   "metadata": {
    "collapsed": false,
    "pycharm": {
     "name": "#%%\n"
    },
    "ExecuteTime": {
     "end_time": "2023-06-13T22:14:00.766178600Z",
     "start_time": "2023-06-13T22:14:00.479361Z"
    }
   }
  },
  {
   "cell_type": "code",
   "execution_count": 27,
   "outputs": [
    {
     "data": {
      "text/plain": "(1, 106)"
     },
     "execution_count": 27,
     "metadata": {},
     "output_type": "execute_result"
    }
   ],
   "source": [
    "df_final.shape"
   ],
   "metadata": {
    "collapsed": false,
    "pycharm": {
     "name": "#%%\n"
    },
    "ExecuteTime": {
     "end_time": "2023-06-13T22:14:00.766178600Z",
     "start_time": "2023-06-13T22:14:00.495168100Z"
    }
   }
  },
  {
   "cell_type": "code",
   "execution_count": 27,
   "outputs": [],
   "source": [],
   "metadata": {
    "collapsed": false,
    "pycharm": {
     "name": "#%%\n"
    },
    "ExecuteTime": {
     "end_time": "2023-06-13T22:14:00.776219500Z",
     "start_time": "2023-06-13T22:14:00.507989300Z"
    }
   }
  },
  {
   "cell_type": "code",
   "execution_count": 28,
   "outputs": [],
   "source": [
    "df_new = df[['url', 'status']]"
   ],
   "metadata": {
    "collapsed": false,
    "ExecuteTime": {
     "end_time": "2023-06-13T22:14:00.776219500Z",
     "start_time": "2023-06-13T22:14:00.516189200Z"
    }
   }
  },
  {
   "cell_type": "code",
   "execution_count": 29,
   "outputs": [
    {
     "data": {
      "text/plain": "0                    http://www.crestonwood.com/router.php\n1        http://shadetreetechnology.com/V4/validation/a...\n2        https://support-appleld.com.secureupdate.duila...\n3                                       http://rgipt.ac.in\n4        http://www.iracing.com/tracks/gateway-motorspo...\n                               ...                        \n11425        http://www.fontspace.com/category/blackletter\n11426    http://www.budgetbots.com/server.php/Server%20...\n11427    https://www.facebook.com/Interactive-Televisio...\n11428               http://www.mypublicdomainpictures.com/\n11429    http://174.139.46.123/ap/signin?openid.pape.ma...\nName: url, Length: 11430, dtype: object"
     },
     "execution_count": 29,
     "metadata": {},
     "output_type": "execute_result"
    }
   ],
   "source": [
    "df_new['url']"
   ],
   "metadata": {
    "collapsed": false,
    "ExecuteTime": {
     "end_time": "2023-06-13T22:14:00.780279500Z",
     "start_time": "2023-06-13T22:14:00.526464500Z"
    }
   }
  },
  {
   "cell_type": "code",
   "execution_count": 38,
   "outputs": [],
   "source": [
    "from preprocessing import get_df\n",
    "\n",
    "def get_new_df(urls):\n",
    "    df_user = pd.DataFrame()\n",
    "    for url in urls:\n",
    "\n",
    "        try:\n",
    "            df_user1 = get_df(url)\n",
    "            df_user = pd.concat([df_user, df_user1])\n",
    "        except UnicodeError:\n",
    "            continue\n",
    "\n",
    "    return df_user"
   ],
   "metadata": {
    "collapsed": false,
    "ExecuteTime": {
     "end_time": "2023-06-13T22:23:11.181069800Z",
     "start_time": "2023-06-13T22:23:11.145095Z"
    }
   }
  },
  {
   "cell_type": "code",
   "execution_count": 43,
   "outputs": [],
   "source": [
    "df_sample = df_new.sample(100)"
   ],
   "metadata": {
    "collapsed": false,
    "ExecuteTime": {
     "end_time": "2023-06-13T22:28:32.547206700Z",
     "start_time": "2023-06-13T22:28:32.524969400Z"
    }
   }
  },
  {
   "cell_type": "code",
   "execution_count": 48,
   "outputs": [
    {
     "data": {
      "text/plain": "(100, 2)"
     },
     "execution_count": 48,
     "metadata": {},
     "output_type": "execute_result"
    }
   ],
   "source": [
    "df_sample.shape"
   ],
   "metadata": {
    "collapsed": false,
    "ExecuteTime": {
     "end_time": "2023-06-14T05:48:36.342755900Z",
     "start_time": "2023-06-14T05:48:36.293191600Z"
    }
   }
  },
  {
   "cell_type": "code",
   "execution_count": 45,
   "outputs": [],
   "source": [
    "prep_data = get_new_df(df_sample['url'])"
   ],
   "metadata": {
    "collapsed": false,
    "ExecuteTime": {
     "end_time": "2023-06-13T22:51:40.591705400Z",
     "start_time": "2023-06-13T22:29:03.325613500Z"
    }
   }
  },
  {
   "cell_type": "code",
   "execution_count": 47,
   "outputs": [
    {
     "data": {
      "text/plain": "(85, 106)"
     },
     "execution_count": 47,
     "metadata": {},
     "output_type": "execute_result"
    }
   ],
   "source": [
    "prep_data.shape"
   ],
   "metadata": {
    "collapsed": false,
    "ExecuteTime": {
     "end_time": "2023-06-14T05:48:17.223509800Z",
     "start_time": "2023-06-14T05:48:17.212353600Z"
    }
   }
  },
  {
   "cell_type": "code",
   "execution_count": 46,
   "outputs": [
    {
     "ename": "InvalidIndexError",
     "evalue": "Reindexing only valid with uniquely valued Index objects",
     "output_type": "error",
     "traceback": [
      "\u001B[1;31m---------------------------------------------------------------------------\u001B[0m",
      "\u001B[1;31mInvalidIndexError\u001B[0m                         Traceback (most recent call last)",
      "Cell \u001B[1;32mIn[46], line 1\u001B[0m\n\u001B[1;32m----> 1\u001B[0m prep_data \u001B[38;5;241m=\u001B[39m \u001B[43mpd\u001B[49m\u001B[38;5;241;43m.\u001B[39;49m\u001B[43mconcat\u001B[49m\u001B[43m(\u001B[49m\u001B[43m[\u001B[49m\u001B[43mprep_data\u001B[49m\u001B[43m,\u001B[49m\u001B[43m \u001B[49m\u001B[43mdf_sample\u001B[49m\u001B[43m[\u001B[49m\u001B[38;5;124;43m'\u001B[39;49m\u001B[38;5;124;43mstatus\u001B[39;49m\u001B[38;5;124;43m'\u001B[39;49m\u001B[43m]\u001B[49m\u001B[43m]\u001B[49m\u001B[43m,\u001B[49m\u001B[43m \u001B[49m\u001B[43maxis\u001B[49m\u001B[38;5;241;43m=\u001B[39;49m\u001B[38;5;241;43m1\u001B[39;49m\u001B[43m)\u001B[49m\n",
      "File \u001B[1;32mD:\\ML Projects\\Phishing Domain Detection\\venv\\Lib\\site-packages\\pandas\\core\\reshape\\concat.py:385\u001B[0m, in \u001B[0;36mconcat\u001B[1;34m(objs, axis, join, ignore_index, keys, levels, names, verify_integrity, sort, copy)\u001B[0m\n\u001B[0;32m    370\u001B[0m     copy \u001B[38;5;241m=\u001B[39m \u001B[38;5;28;01mFalse\u001B[39;00m\n\u001B[0;32m    372\u001B[0m op \u001B[38;5;241m=\u001B[39m _Concatenator(\n\u001B[0;32m    373\u001B[0m     objs,\n\u001B[0;32m    374\u001B[0m     axis\u001B[38;5;241m=\u001B[39maxis,\n\u001B[1;32m   (...)\u001B[0m\n\u001B[0;32m    382\u001B[0m     sort\u001B[38;5;241m=\u001B[39msort,\n\u001B[0;32m    383\u001B[0m )\n\u001B[1;32m--> 385\u001B[0m \u001B[38;5;28;01mreturn\u001B[39;00m \u001B[43mop\u001B[49m\u001B[38;5;241;43m.\u001B[39;49m\u001B[43mget_result\u001B[49m\u001B[43m(\u001B[49m\u001B[43m)\u001B[49m\n",
      "File \u001B[1;32mD:\\ML Projects\\Phishing Domain Detection\\venv\\Lib\\site-packages\\pandas\\core\\reshape\\concat.py:612\u001B[0m, in \u001B[0;36m_Concatenator.get_result\u001B[1;34m(self)\u001B[0m\n\u001B[0;32m    610\u001B[0m         obj_labels \u001B[38;5;241m=\u001B[39m obj\u001B[38;5;241m.\u001B[39maxes[\u001B[38;5;241m1\u001B[39m \u001B[38;5;241m-\u001B[39m ax]\n\u001B[0;32m    611\u001B[0m         \u001B[38;5;28;01mif\u001B[39;00m \u001B[38;5;129;01mnot\u001B[39;00m new_labels\u001B[38;5;241m.\u001B[39mequals(obj_labels):\n\u001B[1;32m--> 612\u001B[0m             indexers[ax] \u001B[38;5;241m=\u001B[39m \u001B[43mobj_labels\u001B[49m\u001B[38;5;241;43m.\u001B[39;49m\u001B[43mget_indexer\u001B[49m\u001B[43m(\u001B[49m\u001B[43mnew_labels\u001B[49m\u001B[43m)\u001B[49m\n\u001B[0;32m    614\u001B[0m     mgrs_indexers\u001B[38;5;241m.\u001B[39mappend((obj\u001B[38;5;241m.\u001B[39m_mgr, indexers))\n\u001B[0;32m    616\u001B[0m new_data \u001B[38;5;241m=\u001B[39m concatenate_managers(\n\u001B[0;32m    617\u001B[0m     mgrs_indexers, \u001B[38;5;28mself\u001B[39m\u001B[38;5;241m.\u001B[39mnew_axes, concat_axis\u001B[38;5;241m=\u001B[39m\u001B[38;5;28mself\u001B[39m\u001B[38;5;241m.\u001B[39mbm_axis, copy\u001B[38;5;241m=\u001B[39m\u001B[38;5;28mself\u001B[39m\u001B[38;5;241m.\u001B[39mcopy\n\u001B[0;32m    618\u001B[0m )\n",
      "File \u001B[1;32mD:\\ML Projects\\Phishing Domain Detection\\venv\\Lib\\site-packages\\pandas\\core\\indexes\\base.py:3731\u001B[0m, in \u001B[0;36mIndex.get_indexer\u001B[1;34m(self, target, method, limit, tolerance)\u001B[0m\n\u001B[0;32m   3728\u001B[0m \u001B[38;5;28mself\u001B[39m\u001B[38;5;241m.\u001B[39m_check_indexing_method(method, limit, tolerance)\n\u001B[0;32m   3730\u001B[0m \u001B[38;5;28;01mif\u001B[39;00m \u001B[38;5;129;01mnot\u001B[39;00m \u001B[38;5;28mself\u001B[39m\u001B[38;5;241m.\u001B[39m_index_as_unique:\n\u001B[1;32m-> 3731\u001B[0m     \u001B[38;5;28;01mraise\u001B[39;00m InvalidIndexError(\u001B[38;5;28mself\u001B[39m\u001B[38;5;241m.\u001B[39m_requires_unique_msg)\n\u001B[0;32m   3733\u001B[0m \u001B[38;5;28;01mif\u001B[39;00m \u001B[38;5;28mlen\u001B[39m(target) \u001B[38;5;241m==\u001B[39m \u001B[38;5;241m0\u001B[39m:\n\u001B[0;32m   3734\u001B[0m     \u001B[38;5;28;01mreturn\u001B[39;00m np\u001B[38;5;241m.\u001B[39marray([], dtype\u001B[38;5;241m=\u001B[39mnp\u001B[38;5;241m.\u001B[39mintp)\n",
      "\u001B[1;31mInvalidIndexError\u001B[0m: Reindexing only valid with uniquely valued Index objects"
     ]
    }
   ],
   "source": [
    "prep_data = pd.concat([prep_data, df_sample['status']], axis=1)"
   ],
   "metadata": {
    "collapsed": false,
    "ExecuteTime": {
     "end_time": "2023-06-14T05:45:57.488494300Z",
     "start_time": "2023-06-14T05:45:53.558303100Z"
    }
   }
  },
  {
   "cell_type": "code",
   "execution_count": null,
   "outputs": [],
   "source": [],
   "metadata": {
    "collapsed": false
   }
  }
 ],
 "metadata": {
  "kernelspec": {
   "display_name": "Python 3",
   "language": "python",
   "name": "python3"
  },
  "language_info": {
   "codemirror_mode": {
    "name": "ipython",
    "version": 2
   },
   "file_extension": ".py",
   "mimetype": "text/x-python",
   "name": "python",
   "nbconvert_exporter": "python",
   "pygments_lexer": "ipython2",
   "version": "2.7.6"
  }
 },
 "nbformat": 4,
 "nbformat_minor": 0
}
