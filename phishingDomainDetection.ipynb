{
 "cells": [
  {
   "cell_type": "code",
   "execution_count": 1,
   "metadata": {
    "collapsed": true,
    "ExecuteTime": {
     "end_time": "2023-06-13T22:27:26.178480500Z",
     "start_time": "2023-06-13T22:27:26.068270900Z"
    }
   },
   "outputs": [],
   "source": [
    "import pandas as pd"
   ]
  },
  {
   "cell_type": "code",
   "execution_count": 2,
   "outputs": [],
   "source": [
    "df = pd.read_csv('dataset_small.csv')"
   ],
   "metadata": {
    "collapsed": false,
    "pycharm": {
     "name": "#%%\n"
    },
    "ExecuteTime": {
     "end_time": "2023-06-13T22:27:26.651198400Z",
     "start_time": "2023-06-13T22:27:26.077926Z"
    }
   }
  },
  {
   "cell_type": "code",
   "execution_count": 3,
   "outputs": [
    {
     "data": {
      "text/plain": "   qty_dot_url  qty_hyphen_url  qty_underline_url  qty_slash_url  \\\n0            2               0                  0              0   \n1            4               0                  0              2   \n2            1               0                  0              1   \n3            2               0                  0              3   \n4            1               1                  0              4   \n\n   qty_questionmark_url  qty_equal_url  qty_at_url  qty_and_url  \\\n0                     0              0           0            0   \n1                     0              0           0            0   \n2                     0              0           0            0   \n3                     0              0           0            0   \n4                     0              0           0            0   \n\n   qty_exclamation_url  qty_space_url  ...  qty_ip_resolved  qty_nameservers  \\\n0                    0              0  ...                1                4   \n1                    0              0  ...                1                4   \n2                    0              0  ...                1                2   \n3                    0              0  ...                1                2   \n4                    0              0  ...                1                2   \n\n   qty_mx_servers  ttl_hostname  tls_ssl_certificate  qty_redirects  \\\n0               2          3598                    0              0   \n1               1          3977                    1              0   \n2               1         10788                    0              0   \n3               1         14339                    1              0   \n4               1           389                    1              1   \n\n   url_google_index  domain_google_index  url_shortened  phishing  \n0                 0                    0              0         0  \n1                 0                    0              0         0  \n2                 0                    0              0         0  \n3                 0                    0              0         1  \n4                 0                    0              0         1  \n\n[5 rows x 112 columns]",
      "text/html": "<div>\n<style scoped>\n    .dataframe tbody tr th:only-of-type {\n        vertical-align: middle;\n    }\n\n    .dataframe tbody tr th {\n        vertical-align: top;\n    }\n\n    .dataframe thead th {\n        text-align: right;\n    }\n</style>\n<table border=\"1\" class=\"dataframe\">\n  <thead>\n    <tr style=\"text-align: right;\">\n      <th></th>\n      <th>qty_dot_url</th>\n      <th>qty_hyphen_url</th>\n      <th>qty_underline_url</th>\n      <th>qty_slash_url</th>\n      <th>qty_questionmark_url</th>\n      <th>qty_equal_url</th>\n      <th>qty_at_url</th>\n      <th>qty_and_url</th>\n      <th>qty_exclamation_url</th>\n      <th>qty_space_url</th>\n      <th>...</th>\n      <th>qty_ip_resolved</th>\n      <th>qty_nameservers</th>\n      <th>qty_mx_servers</th>\n      <th>ttl_hostname</th>\n      <th>tls_ssl_certificate</th>\n      <th>qty_redirects</th>\n      <th>url_google_index</th>\n      <th>domain_google_index</th>\n      <th>url_shortened</th>\n      <th>phishing</th>\n    </tr>\n  </thead>\n  <tbody>\n    <tr>\n      <th>0</th>\n      <td>2</td>\n      <td>0</td>\n      <td>0</td>\n      <td>0</td>\n      <td>0</td>\n      <td>0</td>\n      <td>0</td>\n      <td>0</td>\n      <td>0</td>\n      <td>0</td>\n      <td>...</td>\n      <td>1</td>\n      <td>4</td>\n      <td>2</td>\n      <td>3598</td>\n      <td>0</td>\n      <td>0</td>\n      <td>0</td>\n      <td>0</td>\n      <td>0</td>\n      <td>0</td>\n    </tr>\n    <tr>\n      <th>1</th>\n      <td>4</td>\n      <td>0</td>\n      <td>0</td>\n      <td>2</td>\n      <td>0</td>\n      <td>0</td>\n      <td>0</td>\n      <td>0</td>\n      <td>0</td>\n      <td>0</td>\n      <td>...</td>\n      <td>1</td>\n      <td>4</td>\n      <td>1</td>\n      <td>3977</td>\n      <td>1</td>\n      <td>0</td>\n      <td>0</td>\n      <td>0</td>\n      <td>0</td>\n      <td>0</td>\n    </tr>\n    <tr>\n      <th>2</th>\n      <td>1</td>\n      <td>0</td>\n      <td>0</td>\n      <td>1</td>\n      <td>0</td>\n      <td>0</td>\n      <td>0</td>\n      <td>0</td>\n      <td>0</td>\n      <td>0</td>\n      <td>...</td>\n      <td>1</td>\n      <td>2</td>\n      <td>1</td>\n      <td>10788</td>\n      <td>0</td>\n      <td>0</td>\n      <td>0</td>\n      <td>0</td>\n      <td>0</td>\n      <td>0</td>\n    </tr>\n    <tr>\n      <th>3</th>\n      <td>2</td>\n      <td>0</td>\n      <td>0</td>\n      <td>3</td>\n      <td>0</td>\n      <td>0</td>\n      <td>0</td>\n      <td>0</td>\n      <td>0</td>\n      <td>0</td>\n      <td>...</td>\n      <td>1</td>\n      <td>2</td>\n      <td>1</td>\n      <td>14339</td>\n      <td>1</td>\n      <td>0</td>\n      <td>0</td>\n      <td>0</td>\n      <td>0</td>\n      <td>1</td>\n    </tr>\n    <tr>\n      <th>4</th>\n      <td>1</td>\n      <td>1</td>\n      <td>0</td>\n      <td>4</td>\n      <td>0</td>\n      <td>0</td>\n      <td>0</td>\n      <td>0</td>\n      <td>0</td>\n      <td>0</td>\n      <td>...</td>\n      <td>1</td>\n      <td>2</td>\n      <td>1</td>\n      <td>389</td>\n      <td>1</td>\n      <td>1</td>\n      <td>0</td>\n      <td>0</td>\n      <td>0</td>\n      <td>1</td>\n    </tr>\n  </tbody>\n</table>\n<p>5 rows × 112 columns</p>\n</div>"
     },
     "execution_count": 3,
     "metadata": {},
     "output_type": "execute_result"
    }
   ],
   "source": [
    "df.head()"
   ],
   "metadata": {
    "collapsed": false,
    "pycharm": {
     "name": "#%%\n"
    },
    "ExecuteTime": {
     "end_time": "2023-06-13T22:27:26.688231Z",
     "start_time": "2023-06-13T22:27:26.658233Z"
    }
   }
  },
  {
   "cell_type": "code",
   "execution_count": 4,
   "outputs": [
    {
     "data": {
      "text/plain": "qty_dot_url             0\nqty_hyphen_url          0\nqty_underline_url       0\nqty_slash_url           0\nqty_questionmark_url    0\n                       ..\nqty_redirects           0\nurl_google_index        0\ndomain_google_index     0\nurl_shortened           0\nphishing                0\nLength: 112, dtype: int64"
     },
     "execution_count": 4,
     "metadata": {},
     "output_type": "execute_result"
    }
   ],
   "source": [
    "df.isnull().sum()"
   ],
   "metadata": {
    "collapsed": false,
    "pycharm": {
     "name": "#%%\n"
    },
    "ExecuteTime": {
     "end_time": "2023-06-13T22:27:26.773988900Z",
     "start_time": "2023-06-13T22:27:26.688231Z"
    }
   }
  },
  {
   "cell_type": "code",
   "execution_count": 5,
   "outputs": [
    {
     "data": {
      "text/plain": "1240"
     },
     "execution_count": 5,
     "metadata": {},
     "output_type": "execute_result"
    }
   ],
   "source": [
    "df.duplicated().sum()"
   ],
   "metadata": {
    "collapsed": false,
    "pycharm": {
     "name": "#%%\n"
    },
    "ExecuteTime": {
     "end_time": "2023-06-13T22:27:27.093188900Z",
     "start_time": "2023-06-13T22:27:26.718227700Z"
    }
   }
  },
  {
   "cell_type": "code",
   "execution_count": 6,
   "outputs": [
    {
     "data": {
      "text/plain": "(58645, 112)"
     },
     "execution_count": 6,
     "metadata": {},
     "output_type": "execute_result"
    }
   ],
   "source": [
    "df.shape"
   ],
   "metadata": {
    "collapsed": false,
    "pycharm": {
     "name": "#%%\n"
    },
    "ExecuteTime": {
     "end_time": "2023-06-13T22:27:27.093188900Z",
     "start_time": "2023-06-13T22:27:27.008259600Z"
    }
   }
  },
  {
   "cell_type": "code",
   "execution_count": 7,
   "outputs": [],
   "source": [
    "df.drop_duplicates(inplace=True)"
   ],
   "metadata": {
    "collapsed": false,
    "pycharm": {
     "name": "#%%\n"
    },
    "ExecuteTime": {
     "end_time": "2023-06-13T22:27:27.389206800Z",
     "start_time": "2023-06-13T22:27:27.028252100Z"
    }
   }
  },
  {
   "cell_type": "code",
   "execution_count": 8,
   "outputs": [
    {
     "name": "stdout",
     "output_type": "stream",
     "text": [
      "<class 'pandas.core.frame.DataFrame'>\n",
      "Index: 57405 entries, 0 to 58644\n",
      "Columns: 112 entries, qty_dot_url to phishing\n",
      "dtypes: float64(1), int64(111)\n",
      "memory usage: 49.5 MB\n"
     ]
    }
   ],
   "source": [
    "df.info()"
   ],
   "metadata": {
    "collapsed": false,
    "pycharm": {
     "name": "#%%\n"
    },
    "ExecuteTime": {
     "end_time": "2023-06-13T22:27:27.438324500Z",
     "start_time": "2023-06-13T22:27:27.393238300Z"
    }
   }
  },
  {
   "cell_type": "code",
   "execution_count": 9,
   "outputs": [
    {
     "data": {
      "text/plain": "        qty_dot_url  qty_hyphen_url  qty_underline_url  qty_slash_url  \\\ncount  57405.000000    57405.000000       57405.000000   57405.000000   \nmean       2.290863        0.462904           0.174218       1.963836   \nstd        1.480440        1.350861           0.808406       2.035539   \nmin        1.000000        0.000000           0.000000       0.000000   \n25%        2.000000        0.000000           0.000000       0.000000   \n50%        2.000000        0.000000           0.000000       1.000000   \n75%        3.000000        0.000000           0.000000       3.000000   \nmax       24.000000       35.000000          21.000000      44.000000   \n\n       qty_questionmark_url  qty_equal_url    qty_at_url   qty_and_url  \\\ncount          57405.000000   57405.000000  57405.000000  57405.000000   \nmean               0.013797       0.314119      0.034004      0.215591   \nstd                0.137486       1.167179      0.346690      1.139324   \nmin                0.000000       0.000000      0.000000      0.000000   \n25%                0.000000       0.000000      0.000000      0.000000   \n50%                0.000000       0.000000      0.000000      0.000000   \n75%                0.000000       0.000000      0.000000      0.000000   \nmax                9.000000      23.000000     43.000000     26.000000   \n\n       qty_exclamation_url  qty_space_url  ...  qty_ip_resolved  \\\ncount         57405.000000   57405.000000  ...     57405.000000   \nmean              0.004547       0.001568  ...         1.153140   \nstd               0.108503       0.090279  ...         0.871197   \nmin               0.000000       0.000000  ...        -1.000000   \n25%               0.000000       0.000000  ...         1.000000   \n50%               0.000000       0.000000  ...         1.000000   \n75%               0.000000       0.000000  ...         1.000000   \nmax              10.000000       9.000000  ...        24.000000   \n\n       qty_nameservers  qty_mx_servers  ttl_hostname  tls_ssl_certificate  \\\ncount     57405.000000    57405.000000  57405.000000         57405.000000   \nmean          2.815051        1.660169   5164.379044             0.512116   \nstd           1.375101        1.721430   7139.604560             0.499858   \nmin           0.000000        0.000000     -1.000000             0.000000   \n25%           2.000000        1.000000    291.000000             0.000000   \n50%           2.000000        1.000000   1413.000000             1.000000   \n75%           4.000000        2.000000  10362.000000             1.000000   \nmax          16.000000       20.000000  86400.000000             1.000000   \n\n       qty_redirects  url_google_index  domain_google_index  url_shortened  \\\ncount   57405.000000      57405.000000         57405.000000   57405.000000   \nmean        0.331539          0.001202             0.002178       0.008466   \nstd         0.801018          0.036605             0.047355       0.091622   \nmin        -1.000000         -1.000000            -1.000000       0.000000   \n25%         0.000000          0.000000             0.000000       0.000000   \n50%         0.000000          0.000000             0.000000       0.000000   \n75%         1.000000          0.000000             0.000000       0.000000   \nmax        17.000000          1.000000             1.000000       1.000000   \n\n           phishing  \ncount  57405.000000  \nmean       0.531260  \nstd        0.499026  \nmin        0.000000  \n25%        0.000000  \n50%        1.000000  \n75%        1.000000  \nmax        1.000000  \n\n[8 rows x 112 columns]",
      "text/html": "<div>\n<style scoped>\n    .dataframe tbody tr th:only-of-type {\n        vertical-align: middle;\n    }\n\n    .dataframe tbody tr th {\n        vertical-align: top;\n    }\n\n    .dataframe thead th {\n        text-align: right;\n    }\n</style>\n<table border=\"1\" class=\"dataframe\">\n  <thead>\n    <tr style=\"text-align: right;\">\n      <th></th>\n      <th>qty_dot_url</th>\n      <th>qty_hyphen_url</th>\n      <th>qty_underline_url</th>\n      <th>qty_slash_url</th>\n      <th>qty_questionmark_url</th>\n      <th>qty_equal_url</th>\n      <th>qty_at_url</th>\n      <th>qty_and_url</th>\n      <th>qty_exclamation_url</th>\n      <th>qty_space_url</th>\n      <th>...</th>\n      <th>qty_ip_resolved</th>\n      <th>qty_nameservers</th>\n      <th>qty_mx_servers</th>\n      <th>ttl_hostname</th>\n      <th>tls_ssl_certificate</th>\n      <th>qty_redirects</th>\n      <th>url_google_index</th>\n      <th>domain_google_index</th>\n      <th>url_shortened</th>\n      <th>phishing</th>\n    </tr>\n  </thead>\n  <tbody>\n    <tr>\n      <th>count</th>\n      <td>57405.000000</td>\n      <td>57405.000000</td>\n      <td>57405.000000</td>\n      <td>57405.000000</td>\n      <td>57405.000000</td>\n      <td>57405.000000</td>\n      <td>57405.000000</td>\n      <td>57405.000000</td>\n      <td>57405.000000</td>\n      <td>57405.000000</td>\n      <td>...</td>\n      <td>57405.000000</td>\n      <td>57405.000000</td>\n      <td>57405.000000</td>\n      <td>57405.000000</td>\n      <td>57405.000000</td>\n      <td>57405.000000</td>\n      <td>57405.000000</td>\n      <td>57405.000000</td>\n      <td>57405.000000</td>\n      <td>57405.000000</td>\n    </tr>\n    <tr>\n      <th>mean</th>\n      <td>2.290863</td>\n      <td>0.462904</td>\n      <td>0.174218</td>\n      <td>1.963836</td>\n      <td>0.013797</td>\n      <td>0.314119</td>\n      <td>0.034004</td>\n      <td>0.215591</td>\n      <td>0.004547</td>\n      <td>0.001568</td>\n      <td>...</td>\n      <td>1.153140</td>\n      <td>2.815051</td>\n      <td>1.660169</td>\n      <td>5164.379044</td>\n      <td>0.512116</td>\n      <td>0.331539</td>\n      <td>0.001202</td>\n      <td>0.002178</td>\n      <td>0.008466</td>\n      <td>0.531260</td>\n    </tr>\n    <tr>\n      <th>std</th>\n      <td>1.480440</td>\n      <td>1.350861</td>\n      <td>0.808406</td>\n      <td>2.035539</td>\n      <td>0.137486</td>\n      <td>1.167179</td>\n      <td>0.346690</td>\n      <td>1.139324</td>\n      <td>0.108503</td>\n      <td>0.090279</td>\n      <td>...</td>\n      <td>0.871197</td>\n      <td>1.375101</td>\n      <td>1.721430</td>\n      <td>7139.604560</td>\n      <td>0.499858</td>\n      <td>0.801018</td>\n      <td>0.036605</td>\n      <td>0.047355</td>\n      <td>0.091622</td>\n      <td>0.499026</td>\n    </tr>\n    <tr>\n      <th>min</th>\n      <td>1.000000</td>\n      <td>0.000000</td>\n      <td>0.000000</td>\n      <td>0.000000</td>\n      <td>0.000000</td>\n      <td>0.000000</td>\n      <td>0.000000</td>\n      <td>0.000000</td>\n      <td>0.000000</td>\n      <td>0.000000</td>\n      <td>...</td>\n      <td>-1.000000</td>\n      <td>0.000000</td>\n      <td>0.000000</td>\n      <td>-1.000000</td>\n      <td>0.000000</td>\n      <td>-1.000000</td>\n      <td>-1.000000</td>\n      <td>-1.000000</td>\n      <td>0.000000</td>\n      <td>0.000000</td>\n    </tr>\n    <tr>\n      <th>25%</th>\n      <td>2.000000</td>\n      <td>0.000000</td>\n      <td>0.000000</td>\n      <td>0.000000</td>\n      <td>0.000000</td>\n      <td>0.000000</td>\n      <td>0.000000</td>\n      <td>0.000000</td>\n      <td>0.000000</td>\n      <td>0.000000</td>\n      <td>...</td>\n      <td>1.000000</td>\n      <td>2.000000</td>\n      <td>1.000000</td>\n      <td>291.000000</td>\n      <td>0.000000</td>\n      <td>0.000000</td>\n      <td>0.000000</td>\n      <td>0.000000</td>\n      <td>0.000000</td>\n      <td>0.000000</td>\n    </tr>\n    <tr>\n      <th>50%</th>\n      <td>2.000000</td>\n      <td>0.000000</td>\n      <td>0.000000</td>\n      <td>1.000000</td>\n      <td>0.000000</td>\n      <td>0.000000</td>\n      <td>0.000000</td>\n      <td>0.000000</td>\n      <td>0.000000</td>\n      <td>0.000000</td>\n      <td>...</td>\n      <td>1.000000</td>\n      <td>2.000000</td>\n      <td>1.000000</td>\n      <td>1413.000000</td>\n      <td>1.000000</td>\n      <td>0.000000</td>\n      <td>0.000000</td>\n      <td>0.000000</td>\n      <td>0.000000</td>\n      <td>1.000000</td>\n    </tr>\n    <tr>\n      <th>75%</th>\n      <td>3.000000</td>\n      <td>0.000000</td>\n      <td>0.000000</td>\n      <td>3.000000</td>\n      <td>0.000000</td>\n      <td>0.000000</td>\n      <td>0.000000</td>\n      <td>0.000000</td>\n      <td>0.000000</td>\n      <td>0.000000</td>\n      <td>...</td>\n      <td>1.000000</td>\n      <td>4.000000</td>\n      <td>2.000000</td>\n      <td>10362.000000</td>\n      <td>1.000000</td>\n      <td>1.000000</td>\n      <td>0.000000</td>\n      <td>0.000000</td>\n      <td>0.000000</td>\n      <td>1.000000</td>\n    </tr>\n    <tr>\n      <th>max</th>\n      <td>24.000000</td>\n      <td>35.000000</td>\n      <td>21.000000</td>\n      <td>44.000000</td>\n      <td>9.000000</td>\n      <td>23.000000</td>\n      <td>43.000000</td>\n      <td>26.000000</td>\n      <td>10.000000</td>\n      <td>9.000000</td>\n      <td>...</td>\n      <td>24.000000</td>\n      <td>16.000000</td>\n      <td>20.000000</td>\n      <td>86400.000000</td>\n      <td>1.000000</td>\n      <td>17.000000</td>\n      <td>1.000000</td>\n      <td>1.000000</td>\n      <td>1.000000</td>\n      <td>1.000000</td>\n    </tr>\n  </tbody>\n</table>\n<p>8 rows × 112 columns</p>\n</div>"
     },
     "execution_count": 9,
     "metadata": {},
     "output_type": "execute_result"
    }
   ],
   "source": [
    "df.describe()"
   ],
   "metadata": {
    "collapsed": false,
    "pycharm": {
     "name": "#%%\n"
    },
    "ExecuteTime": {
     "end_time": "2023-06-13T22:27:28.508279100Z",
     "start_time": "2023-06-13T22:27:27.428109100Z"
    }
   }
  },
  {
   "cell_type": "code",
   "execution_count": 10,
   "outputs": [],
   "source": [
    "df.drop(['time_domain_activation', 'time_domain_expiration', 'asn_ip', 'qty_nameservers', 'qty_mx_servers'], inplace=True, axis=1)"
   ],
   "metadata": {
    "collapsed": false,
    "pycharm": {
     "name": "#%%\n"
    },
    "ExecuteTime": {
     "end_time": "2023-06-13T22:27:28.609141600Z",
     "start_time": "2023-06-13T22:27:28.498287600Z"
    }
   }
  },
  {
   "cell_type": "code",
   "execution_count": 11,
   "outputs": [
    {
     "data": {
      "text/plain": "(57405, 107)"
     },
     "execution_count": 11,
     "metadata": {},
     "output_type": "execute_result"
    }
   ],
   "source": [
    "df.shape"
   ],
   "metadata": {
    "collapsed": false,
    "pycharm": {
     "name": "#%%\n"
    },
    "ExecuteTime": {
     "end_time": "2023-06-13T22:27:28.609141600Z",
     "start_time": "2023-06-13T22:27:28.546008900Z"
    }
   }
  },
  {
   "cell_type": "code",
   "execution_count": 12,
   "outputs": [],
   "source": [
    "import matplotlib.pyplot as plt\n",
    "import seaborn as sns"
   ],
   "metadata": {
    "collapsed": false,
    "pycharm": {
     "name": "#%%\n"
    },
    "ExecuteTime": {
     "end_time": "2023-06-13T22:27:28.609141600Z",
     "start_time": "2023-06-13T22:27:28.561741500Z"
    }
   }
  },
  {
   "cell_type": "code",
   "execution_count": 13,
   "outputs": [
    {
     "data": {
      "text/plain": "phishing\n1    30497\n0    26908\nName: count, dtype: int64"
     },
     "execution_count": 13,
     "metadata": {},
     "output_type": "execute_result"
    }
   ],
   "source": [
    "df['phishing'].value_counts()"
   ],
   "metadata": {
    "collapsed": false,
    "pycharm": {
     "name": "#%%\n"
    },
    "ExecuteTime": {
     "end_time": "2023-06-13T22:27:28.609141600Z",
     "start_time": "2023-06-13T22:27:28.578547400Z"
    }
   }
  },
  {
   "cell_type": "code",
   "execution_count": 14,
   "outputs": [
    {
     "data": {
      "text/plain": "<Axes: xlabel='phishing', ylabel='count'>"
     },
     "execution_count": 14,
     "metadata": {},
     "output_type": "execute_result"
    },
    {
     "data": {
      "text/plain": "<Figure size 640x480 with 1 Axes>",
      "image/png": "[encoded data removed]"
     },
     "metadata": {},
     "output_type": "display_data"
    }
   ],
   "source": [
    "sns.countplot(x=df['phishing'], data=df)"
   ],
   "metadata": {
    "collapsed": false,
    "pycharm": {
     "name": "#%%\n"
    },
    "ExecuteTime": {
     "end_time": "2023-06-13T22:27:29.038244900Z",
     "start_time": "2023-06-13T22:27:28.603044100Z"
    }
   }
  },
  {
   "cell_type": "code",
   "execution_count": 15,
   "outputs": [
    {
     "data": {
      "text/plain": "['qty_dot_url',\n 'qty_hyphen_url',\n 'qty_underline_url',\n 'qty_slash_url',\n 'qty_questionmark_url',\n 'qty_equal_url',\n 'qty_at_url',\n 'qty_and_url',\n 'qty_exclamation_url',\n 'qty_space_url',\n 'qty_tilde_url',\n 'qty_comma_url',\n 'qty_plus_url',\n 'qty_asterisk_url',\n 'qty_hashtag_url',\n 'qty_dollar_url',\n 'qty_percent_url',\n 'qty_tld_url',\n 'length_url',\n 'qty_dot_domain',\n 'qty_hyphen_domain',\n 'qty_underline_domain',\n 'qty_slash_domain',\n 'qty_questionmark_domain',\n 'qty_equal_domain',\n 'qty_at_domain',\n 'qty_and_domain',\n 'qty_exclamation_domain',\n 'qty_space_domain',\n 'qty_tilde_domain',\n 'qty_comma_domain',\n 'qty_plus_domain',\n 'qty_asterisk_domain',\n 'qty_hashtag_domain',\n 'qty_dollar_domain',\n 'qty_percent_domain',\n 'qty_vowels_domain',\n 'domain_length',\n 'domain_in_ip',\n 'server_client_domain',\n 'qty_dot_directory',\n 'qty_hyphen_directory',\n 'qty_underline_directory',\n 'qty_slash_directory',\n 'qty_questionmark_directory',\n 'qty_equal_directory',\n 'qty_at_directory',\n 'qty_and_directory',\n 'qty_exclamation_directory',\n 'qty_space_directory',\n 'qty_tilde_directory',\n 'qty_comma_directory',\n 'qty_plus_directory',\n 'qty_asterisk_directory',\n 'qty_hashtag_directory',\n 'qty_dollar_directory',\n 'qty_percent_directory',\n 'directory_length',\n 'qty_dot_file',\n 'qty_hyphen_file',\n 'qty_underline_file',\n 'qty_slash_file',\n 'qty_questionmark_file',\n 'qty_equal_file',\n 'qty_at_file',\n 'qty_and_file',\n 'qty_exclamation_file',\n 'qty_space_file',\n 'qty_tilde_file',\n 'qty_comma_file',\n 'qty_plus_file',\n 'qty_asterisk_file',\n 'qty_hashtag_file',\n 'qty_dollar_file',\n 'qty_percent_file',\n 'file_length',\n 'qty_dot_params',\n 'qty_hyphen_params',\n 'qty_underline_params',\n 'qty_slash_params',\n 'qty_questionmark_params',\n 'qty_equal_params',\n 'qty_at_params',\n 'qty_and_params',\n 'qty_exclamation_params',\n 'qty_space_params',\n 'qty_tilde_params',\n 'qty_comma_params',\n 'qty_plus_params',\n 'qty_asterisk_params',\n 'qty_hashtag_params',\n 'qty_dollar_params',\n 'qty_percent_params',\n 'params_length',\n 'tld_present_params',\n 'qty_params',\n 'email_in_url',\n 'time_response',\n 'domain_spf',\n 'qty_ip_resolved',\n 'ttl_hostname',\n 'tls_ssl_certificate',\n 'qty_redirects',\n 'url_google_index',\n 'domain_google_index',\n 'url_shortened',\n 'phishing']"
     },
     "execution_count": 15,
     "metadata": {},
     "output_type": "execute_result"
    }
   ],
   "source": [
    "df.columns.tolist()"
   ],
   "metadata": {
    "collapsed": false,
    "pycharm": {
     "name": "#%%\n"
    },
    "ExecuteTime": {
     "end_time": "2023-06-13T22:27:29.051892500Z",
     "start_time": "2023-06-13T22:27:29.038244900Z"
    }
   }
  },
  {
   "cell_type": "code",
   "execution_count": 16,
   "outputs": [],
   "source": [
    "X = df.drop(['phishing'], axis=1)\n",
    "y = df['phishing']"
   ],
   "metadata": {
    "collapsed": false,
    "pycharm": {
     "name": "#%%\n"
    },
    "ExecuteTime": {
     "end_time": "2023-06-13T22:27:29.148419300Z",
     "start_time": "2023-06-13T22:27:29.051892500Z"
    }
   }
  },
  {
   "cell_type": "code",
   "execution_count": 16,
   "outputs": [],
   "source": [],
   "metadata": {
    "collapsed": false,
    "ExecuteTime": {
     "end_time": "2023-06-13T22:27:29.148419300Z",
     "start_time": "2023-06-13T22:27:29.091769900Z"
    }
   }
  },
  {
   "cell_type": "code",
   "execution_count": 17,
   "outputs": [],
   "source": [
    "from sklearn.model_selection import train_test_split"
   ],
   "metadata": {
    "collapsed": false,
    "pycharm": {
     "name": "#%%\n"
    },
    "ExecuteTime": {
     "end_time": "2023-06-13T22:27:29.958660100Z",
     "start_time": "2023-06-13T22:27:29.091769900Z"
    }
   }
  },
  {
   "cell_type": "code",
   "execution_count": 18,
   "outputs": [],
   "source": [
    "X_train, X_test, y_train, y_test = train_test_split(X, y , test_size=0.2)"
   ],
   "metadata": {
    "collapsed": false,
    "pycharm": {
     "name": "#%%\n"
    },
    "ExecuteTime": {
     "end_time": "2023-06-13T22:27:30.051618600Z",
     "start_time": "2023-06-13T22:27:29.958660100Z"
    }
   }
  },
  {
   "cell_type": "code",
   "execution_count": 19,
   "outputs": [
    {
     "data": {
      "text/plain": "(45924, 106)"
     },
     "execution_count": 19,
     "metadata": {},
     "output_type": "execute_result"
    }
   ],
   "source": [
    "X_train.shape"
   ],
   "metadata": {
    "collapsed": false,
    "pycharm": {
     "name": "#%%\n"
    },
    "ExecuteTime": {
     "end_time": "2023-06-13T22:27:30.068052700Z",
     "start_time": "2023-06-13T22:27:30.051618600Z"
    }
   }
  },
  {
   "cell_type": "code",
   "execution_count": 20,
   "outputs": [
    {
     "data": {
      "text/plain": "(45924,)"
     },
     "execution_count": 20,
     "metadata": {},
     "output_type": "execute_result"
    }
   ],
   "source": [
    "y_train.shape"
   ],
   "metadata": {
    "collapsed": false,
    "pycharm": {
     "name": "#%%\n"
    },
    "ExecuteTime": {
     "end_time": "2023-06-13T22:27:30.109697100Z",
     "start_time": "2023-06-13T22:27:30.068052700Z"
    }
   }
  },
  {
   "cell_type": "code",
   "execution_count": 21,
   "outputs": [
    {
     "data": {
      "text/plain": "37179    1\n9780     1\n4216     0\n38817    0\n8723     1\n        ..\n47430    1\n44574    0\n52930    0\n39411    1\n24998    0\nName: phishing, Length: 45924, dtype: int64"
     },
     "execution_count": 21,
     "metadata": {},
     "output_type": "execute_result"
    }
   ],
   "source": [
    "y_train"
   ],
   "metadata": {
    "collapsed": false,
    "pycharm": {
     "name": "#%%\n"
    },
    "ExecuteTime": {
     "end_time": "2023-06-13T22:27:30.118299400Z",
     "start_time": "2023-06-13T22:27:30.078115100Z"
    }
   }
  },
  {
   "cell_type": "code",
   "execution_count": 22,
   "outputs": [
    {
     "data": {
      "text/plain": "(11481, 106)"
     },
     "execution_count": 22,
     "metadata": {},
     "output_type": "execute_result"
    }
   ],
   "source": [
    "X_test.shape"
   ],
   "metadata": {
    "collapsed": false,
    "pycharm": {
     "name": "#%%\n"
    },
    "ExecuteTime": {
     "end_time": "2023-06-13T22:27:30.158408600Z",
     "start_time": "2023-06-13T22:27:30.093775800Z"
    }
   }
  },
  {
   "cell_type": "code",
   "execution_count": 23,
   "outputs": [],
   "source": [
    "from sklearn.linear_model import LogisticRegression\n",
    "from sklearn.neighbors import KNeighborsClassifier\n",
    "from sklearn.svm import SVC\n",
    "from sklearn.naive_bayes import GaussianNB\n",
    "from sklearn.tree import DecisionTreeClassifier\n",
    "from sklearn.ensemble import GradientBoostingClassifier, RandomForestClassifier\n",
    "\n",
    "from xgboost import XGBClassifier\n",
    "from sklearn.neural_network import MLPClassifier\n",
    "from sklearn.metrics import accuracy_score, f1_score, recall_score, precision_score"
   ],
   "metadata": {
    "collapsed": false,
    "pycharm": {
     "name": "#%%\n"
    },
    "ExecuteTime": {
     "end_time": "2023-06-13T22:27:30.630800700Z",
     "start_time": "2023-06-13T22:27:30.109697100Z"
    }
   }
  },
  {
   "cell_type": "code",
   "execution_count": 24,
   "outputs": [],
   "source": [
    "models = [LogisticRegression(), KNeighborsClassifier(),  GaussianNB(), DecisionTreeClassifier(), GradientBoostingClassifier(), RandomForestClassifier(),  XGBClassifier(), MLPClassifier()]"
   ],
   "metadata": {
    "collapsed": false,
    "pycharm": {
     "name": "#%%\n"
    },
    "ExecuteTime": {
     "end_time": "2023-06-13T22:27:30.641187200Z",
     "start_time": "2023-06-13T22:27:30.638359900Z"
    }
   }
  },
  {
   "cell_type": "code",
   "execution_count": 25,
   "outputs": [],
   "source": [
    "import time"
   ],
   "metadata": {
    "collapsed": false,
    "pycharm": {
     "name": "#%%\n"
    },
    "ExecuteTime": {
     "end_time": "2023-06-13T22:27:30.658245500Z",
     "start_time": "2023-06-13T22:27:30.648287600Z"
    }
   }
  },
  {
   "cell_type": "code",
   "execution_count": 26,
   "outputs": [],
   "source": [
    "# for model in models:\n",
    "#\n",
    "#     start_time = time.time()\n",
    "#     model.fit(X_train, y_train)\n",
    "#     end_time = time.time()\n",
    "#\n",
    "#     print('Time : ', end_time - start_time)\n",
    "#     y_pred = model.predict(X_test)\n",
    "#\n",
    "#     print(model.__class__.__name__)\n",
    "#\n",
    "#     print('Accuracy Score :',  accuracy_score(y_test, y_pred))\n",
    "#     print('f1 Score :',  f1_score(y_test, y_pred))\n",
    "#     print('Recall Score :',  recall_score(y_test, y_pred))\n",
    "#     print('Precision Score :',  precision_score(y_test, y_pred))\n",
    "#\n",
    "#     print('\\n')"
   ],
   "metadata": {
    "collapsed": false,
    "pycharm": {
     "name": "#%%\n"
    },
    "ExecuteTime": {
     "end_time": "2023-06-13T22:27:30.683891900Z",
     "start_time": "2023-06-13T22:27:30.668411Z"
    }
   }
  },
  {
   "cell_type": "code",
   "execution_count": 27,
   "outputs": [],
   "source": [
    "xgb = XGBClassifier()"
   ],
   "metadata": {
    "collapsed": false,
    "pycharm": {
     "name": "#%%\n"
    },
    "ExecuteTime": {
     "end_time": "2023-06-13T22:27:30.715982300Z",
     "start_time": "2023-06-13T22:27:30.678197500Z"
    }
   }
  },
  {
   "cell_type": "code",
   "execution_count": 28,
   "outputs": [
    {
     "data": {
      "text/plain": "XGBClassifier(base_score=None, booster=None, callbacks=None,\n              colsample_bylevel=None, colsample_bynode=None,\n              colsample_bytree=None, early_stopping_rounds=None,\n              enable_categorical=False, eval_metric=None, feature_types=None,\n              gamma=None, gpu_id=None, grow_policy=None, importance_type=None,\n              interaction_constraints=None, learning_rate=None, max_bin=None,\n              max_cat_threshold=None, max_cat_to_onehot=None,\n              max_delta_step=None, max_depth=None, max_leaves=None,\n              min_child_weight=None, missing=nan, monotone_constraints=None,\n              n_estimators=100, n_jobs=None, num_parallel_tree=None,\n              predictor=None, random_state=None, ...)",
      "text/html": "<style>#sk-container-id-1 {color: black;background-color: white;}#sk-container-id-1 pre{padding: 0;}#sk-container-id-1 div.sk-toggleable {background-color: white;}#sk-container-id-1 label.sk-toggleable__label {cursor: pointer;display: block;width: 100%;margin-bottom: 0;padding: 0.3em;box-sizing: border-box;text-align: center;}#sk-container-id-1 label.sk-toggleable__label-arrow:before {content: \"▸\";float: left;margin-right: 0.25em;color: #696969;}#sk-container-id-1 label.sk-toggleable__label-arrow:hover:before {color: black;}#sk-container-id-1 div.sk-estimator:hover label.sk-toggleable__label-arrow:before {color: black;}#sk-container-id-1 div.sk-toggleable__content {max-height: 0;max-width: 0;overflow: hidden;text-align: left;background-color: #f0f8ff;}#sk-container-id-1 div.sk-toggleable__content pre {margin: 0.2em;color: black;border-radius: 0.25em;background-color: #f0f8ff;}#sk-container-id-1 input.sk-toggleable__control:checked~div.sk-toggleable__content {max-height: 200px;max-width: 100%;overflow: auto;}#sk-container-id-1 input.sk-toggleable__control:checked~label.sk-toggleable__label-arrow:before {content: \"▾\";}#sk-container-id-1 div.sk-estimator input.sk-toggleable__control:checked~label.sk-toggleable__label {background-color: #d4ebff;}#sk-container-id-1 div.sk-label input.sk-toggleable__control:checked~label.sk-toggleable__label {background-color: #d4ebff;}#sk-container-id-1 input.sk-hidden--visually {border: 0;clip: rect(1px 1px 1px 1px);clip: rect(1px, 1px, 1px, 1px);height: 1px;margin: -1px;overflow: hidden;padding: 0;position: absolute;width: 1px;}#sk-container-id-1 div.sk-estimator {font-family: monospace;background-color: #f0f8ff;border: 1px dotted black;border-radius: 0.25em;box-sizing: border-box;margin-bottom: 0.5em;}#sk-container-id-1 div.sk-estimator:hover {background-color: #d4ebff;}#sk-container-id-1 div.sk-parallel-item::after {content: \"\";width: 100%;border-bottom: 1px solid gray;flex-grow: 1;}#sk-container-id-1 div.sk-label:hover label.sk-toggleable__label {background-color: #d4ebff;}#sk-container-id-1 div.sk-serial::before {content: \"\";position: absolute;border-left: 1px solid gray;box-sizing: border-box;top: 0;bottom: 0;left: 50%;z-index: 0;}#sk-container-id-1 div.sk-serial {display: flex;flex-direction: column;align-items: center;background-color: white;padding-right: 0.2em;padding-left: 0.2em;position: relative;}#sk-container-id-1 div.sk-item {position: relative;z-index: 1;}#sk-container-id-1 div.sk-parallel {display: flex;align-items: stretch;justify-content: center;background-color: white;position: relative;}#sk-container-id-1 div.sk-item::before, #sk-container-id-1 div.sk-parallel-item::before {content: \"\";position: absolute;border-left: 1px solid gray;box-sizing: border-box;top: 0;bottom: 0;left: 50%;z-index: -1;}#sk-container-id-1 div.sk-parallel-item {display: flex;flex-direction: column;z-index: 1;position: relative;background-color: white;}#sk-container-id-1 div.sk-parallel-item:first-child::after {align-self: flex-end;width: 50%;}#sk-container-id-1 div.sk-parallel-item:last-child::after {align-self: flex-start;width: 50%;}#sk-container-id-1 div.sk-parallel-item:only-child::after {width: 0;}#sk-container-id-1 div.sk-dashed-wrapped {border: 1px dashed gray;margin: 0 0.4em 0.5em 0.4em;box-sizing: border-box;padding-bottom: 0.4em;background-color: white;}#sk-container-id-1 div.sk-label label {font-family: monospace;font-weight: bold;display: inline-block;line-height: 1.2em;}#sk-container-id-1 div.sk-label-container {text-align: center;}#sk-container-id-1 div.sk-container {/* jupyter's `normalize.less` sets `[hidden] { display: none; }` but bootstrap.min.css set `[hidden] { display: none !important; }` so we also need the `!important` here to be able to override the default hidden behavior on the sphinx rendered scikit-learn.org. See: https://github.com/scikit-learn/scikit-learn/issues/21755 */display: inline-block !important;position: relative;}#sk-container-id-1 div.sk-text-repr-fallback {display: none;}</style><div id=\"sk-container-id-1\" class=\"sk-top-container\"><div class=\"sk-text-repr-fallback\"><pre>XGBClassifier(base_score=None, booster=None, callbacks=None,\n              colsample_bylevel=None, colsample_bynode=None,\n              colsample_bytree=None, early_stopping_rounds=None,\n              enable_categorical=False, eval_metric=None, feature_types=None,\n              gamma=None, gpu_id=None, grow_policy=None, importance_type=None,\n              interaction_constraints=None, learning_rate=None, max_bin=None,\n              max_cat_threshold=None, max_cat_to_onehot=None,\n              max_delta_step=None, max_depth=None, max_leaves=None,\n              min_child_weight=None, missing=nan, monotone_constraints=None,\n              n_estimators=100, n_jobs=None, num_parallel_tree=None,\n              predictor=None, random_state=None, ...)</pre><b>In a Jupyter environment, please rerun this cell to show the HTML representation or trust the notebook. <br />On GitHub, the HTML representation is unable to render, please try loading this page with nbviewer.org.</b></div><div class=\"sk-container\" hidden><div class=\"sk-item\"><div class=\"sk-estimator sk-toggleable\"><input class=\"sk-toggleable__control sk-hidden--visually\" id=\"sk-estimator-id-1\" type=\"checkbox\" checked><label for=\"sk-estimator-id-1\" class=\"sk-toggleable__label sk-toggleable__label-arrow\">XGBClassifier</label><div class=\"sk-toggleable__content\"><pre>XGBClassifier(base_score=None, booster=None, callbacks=None,\n              colsample_bylevel=None, colsample_bynode=None,\n              colsample_bytree=None, early_stopping_rounds=None,\n              enable_categorical=False, eval_metric=None, feature_types=None,\n              gamma=None, gpu_id=None, grow_policy=None, importance_type=None,\n              interaction_constraints=None, learning_rate=None, max_bin=None,\n              max_cat_threshold=None, max_cat_to_onehot=None,\n              max_delta_step=None, max_depth=None, max_leaves=None,\n              min_child_weight=None, missing=nan, monotone_constraints=None,\n              n_estimators=100, n_jobs=None, num_parallel_tree=None,\n              predictor=None, random_state=None, ...)</pre></div></div></div></div></div>"
     },
     "execution_count": 28,
     "metadata": {},
     "output_type": "execute_result"
    }
   ],
   "source": [
    "xgb.fit(X_train, y_train)"
   ],
   "metadata": {
    "collapsed": false,
    "pycharm": {
     "name": "#%%\n"
    },
    "ExecuteTime": {
     "end_time": "2023-06-13T22:27:37.540857400Z",
     "start_time": "2023-06-13T22:27:30.688445Z"
    }
   }
  },
  {
   "cell_type": "code",
   "execution_count": 29,
   "outputs": [],
   "source": [
    "y_pred = xgb.predict(X_test)"
   ],
   "metadata": {
    "collapsed": false,
    "pycharm": {
     "name": "#%%\n"
    },
    "ExecuteTime": {
     "end_time": "2023-06-13T22:27:37.592843100Z",
     "start_time": "2023-06-13T22:27:37.509218900Z"
    }
   }
  },
  {
   "cell_type": "code",
   "execution_count": 30,
   "outputs": [
    {
     "data": {
      "text/plain": "0.9257033359463461"
     },
     "execution_count": 30,
     "metadata": {},
     "output_type": "execute_result"
    }
   ],
   "source": [
    "accuracy_score(y_test, y_pred)"
   ],
   "metadata": {
    "collapsed": false,
    "pycharm": {
     "name": "#%%\n"
    },
    "ExecuteTime": {
     "end_time": "2023-06-13T22:27:37.592843100Z",
     "start_time": "2023-06-13T22:27:37.548175600Z"
    }
   }
  },
  {
   "cell_type": "code",
   "execution_count": 31,
   "outputs": [],
   "source": [
    "from sklearn.decomposition import PCA"
   ],
   "metadata": {
    "collapsed": false,
    "pycharm": {
     "name": "#%%\n"
    },
    "ExecuteTime": {
     "end_time": "2023-06-13T22:27:37.592843100Z",
     "start_time": "2023-06-13T22:27:37.568440500Z"
    }
   }
  },
  {
   "cell_type": "code",
   "execution_count": 32,
   "outputs": [],
   "source": [
    "# for i in range(111):\n",
    "#     pca = PCA(n_components=i+1)\n",
    "#     pca.fit(X_train)\n",
    "#     X_train_pca = pca.transform(X_train)\n",
    "#     X_test_pca = pca.transform(X_test)\n",
    "#\n",
    "#     model = XGBClassifier()\n",
    "#     model.fit(X_train_pca, y_train)\n",
    "#     y_pred = model.predict(X_test_pca)\n",
    "#\n",
    "#     print(i)\n",
    "#\n",
    "#     print('Accuracy Score :',  accuracy_score(y_test, y_pred))\n",
    "#     print('f1 Score :',  f1_score(y_test, y_pred))\n",
    "#     print('Recall Score :',  recall_score(y_test, y_pred))\n",
    "#     print('Precision Score :',  precision_score(y_test, y_pred))\n",
    "#\n",
    "#     print('\\n')"
   ],
   "metadata": {
    "collapsed": false,
    "pycharm": {
     "name": "#%%\n"
    },
    "ExecuteTime": {
     "end_time": "2023-06-13T22:27:37.592843100Z",
     "start_time": "2023-06-13T22:27:37.583399Z"
    }
   }
  },
  {
   "cell_type": "code",
   "execution_count": 33,
   "outputs": [],
   "source": [
    "# for i in range(111):\n",
    "#     pca = PCA(n_components=i+1)\n",
    "#     pca.fit(X_train)\n",
    "#     X_train_pca = pca.transform(X_train)\n",
    "#     X_test_pca = pca.transform(X_test)\n",
    "#\n",
    "#     model = RandomForestClassifier()\n",
    "#     model.fit(X_train_pca, y_train)\n",
    "#     y_pred = model.predict(X_test_pca)\n",
    "#\n",
    "#     print(i)\n",
    "#\n",
    "#     print('Accuracy Score :',  accuracy_score(y_test, y_pred))\n",
    "#     print('f1 Score :',  f1_score(y_test, y_pred))\n",
    "#     print('Recall Score :',  recall_score(y_test, y_pred))\n",
    "#     print('Precision Score :',  precision_score(y_test, y_pred))\n",
    "#\n",
    "#     print('\\n')"
   ],
   "metadata": {
    "collapsed": false,
    "pycharm": {
     "name": "#%%\n"
    },
    "ExecuteTime": {
     "end_time": "2023-06-13T22:27:37.674227600Z",
     "start_time": "2023-06-13T22:27:37.598422200Z"
    }
   }
  },
  {
   "cell_type": "code",
   "execution_count": 34,
   "outputs": [],
   "source": [
    "from sklearn.preprocessing import StandardScaler"
   ],
   "metadata": {
    "collapsed": false,
    "pycharm": {
     "name": "#%%\n"
    },
    "ExecuteTime": {
     "end_time": "2023-06-13T22:27:37.759610100Z",
     "start_time": "2023-06-13T22:27:37.608657700Z"
    }
   }
  },
  {
   "cell_type": "code",
   "execution_count": 35,
   "outputs": [],
   "source": [
    "scaler = StandardScaler()"
   ],
   "metadata": {
    "collapsed": false,
    "pycharm": {
     "name": "#%%\n"
    },
    "ExecuteTime": {
     "end_time": "2023-06-13T22:27:37.828891600Z",
     "start_time": "2023-06-13T22:27:37.624285200Z"
    }
   }
  },
  {
   "cell_type": "code",
   "execution_count": 36,
   "outputs": [
    {
     "data": {
      "text/plain": "StandardScaler()",
      "text/html": "<style>#sk-container-id-2 {color: black;background-color: white;}#sk-container-id-2 pre{padding: 0;}#sk-container-id-2 div.sk-toggleable {background-color: white;}#sk-container-id-2 label.sk-toggleable__label {cursor: pointer;display: block;width: 100%;margin-bottom: 0;padding: 0.3em;box-sizing: border-box;text-align: center;}#sk-container-id-2 label.sk-toggleable__label-arrow:before {content: \"▸\";float: left;margin-right: 0.25em;color: #696969;}#sk-container-id-2 label.sk-toggleable__label-arrow:hover:before {color: black;}#sk-container-id-2 div.sk-estimator:hover label.sk-toggleable__label-arrow:before {color: black;}#sk-container-id-2 div.sk-toggleable__content {max-height: 0;max-width: 0;overflow: hidden;text-align: left;background-color: #f0f8ff;}#sk-container-id-2 div.sk-toggleable__content pre {margin: 0.2em;color: black;border-radius: 0.25em;background-color: #f0f8ff;}#sk-container-id-2 input.sk-toggleable__control:checked~div.sk-toggleable__content {max-height: 200px;max-width: 100%;overflow: auto;}#sk-container-id-2 input.sk-toggleable__control:checked~label.sk-toggleable__label-arrow:before {content: \"▾\";}#sk-container-id-2 div.sk-estimator input.sk-toggleable__control:checked~label.sk-toggleable__label {background-color: #d4ebff;}#sk-container-id-2 div.sk-label input.sk-toggleable__control:checked~label.sk-toggleable__label {background-color: #d4ebff;}#sk-container-id-2 input.sk-hidden--visually {border: 0;clip: rect(1px 1px 1px 1px);clip: rect(1px, 1px, 1px, 1px);height: 1px;margin: -1px;overflow: hidden;padding: 0;position: absolute;width: 1px;}#sk-container-id-2 div.sk-estimator {font-family: monospace;background-color: #f0f8ff;border: 1px dotted black;border-radius: 0.25em;box-sizing: border-box;margin-bottom: 0.5em;}#sk-container-id-2 div.sk-estimator:hover {background-color: #d4ebff;}#sk-container-id-2 div.sk-parallel-item::after {content: \"\";width: 100%;border-bottom: 1px solid gray;flex-grow: 1;}#sk-container-id-2 div.sk-label:hover label.sk-toggleable__label {background-color: #d4ebff;}#sk-container-id-2 div.sk-serial::before {content: \"\";position: absolute;border-left: 1px solid gray;box-sizing: border-box;top: 0;bottom: 0;left: 50%;z-index: 0;}#sk-container-id-2 div.sk-serial {display: flex;flex-direction: column;align-items: center;background-color: white;padding-right: 0.2em;padding-left: 0.2em;position: relative;}#sk-container-id-2 div.sk-item {position: relative;z-index: 1;}#sk-container-id-2 div.sk-parallel {display: flex;align-items: stretch;justify-content: center;background-color: white;position: relative;}#sk-container-id-2 div.sk-item::before, #sk-container-id-2 div.sk-parallel-item::before {content: \"\";position: absolute;border-left: 1px solid gray;box-sizing: border-box;top: 0;bottom: 0;left: 50%;z-index: -1;}#sk-container-id-2 div.sk-parallel-item {display: flex;flex-direction: column;z-index: 1;position: relative;background-color: white;}#sk-container-id-2 div.sk-parallel-item:first-child::after {align-self: flex-end;width: 50%;}#sk-container-id-2 div.sk-parallel-item:last-child::after {align-self: flex-start;width: 50%;}#sk-container-id-2 div.sk-parallel-item:only-child::after {width: 0;}#sk-container-id-2 div.sk-dashed-wrapped {border: 1px dashed gray;margin: 0 0.4em 0.5em 0.4em;box-sizing: border-box;padding-bottom: 0.4em;background-color: white;}#sk-container-id-2 div.sk-label label {font-family: monospace;font-weight: bold;display: inline-block;line-height: 1.2em;}#sk-container-id-2 div.sk-label-container {text-align: center;}#sk-container-id-2 div.sk-container {/* jupyter's `normalize.less` sets `[hidden] { display: none; }` but bootstrap.min.css set `[hidden] { display: none !important; }` so we also need the `!important` here to be able to override the default hidden behavior on the sphinx rendered scikit-learn.org. See: https://github.com/scikit-learn/scikit-learn/issues/21755 */display: inline-block !important;position: relative;}#sk-container-id-2 div.sk-text-repr-fallback {display: none;}</style><div id=\"sk-container-id-2\" class=\"sk-top-container\"><div class=\"sk-text-repr-fallback\"><pre>StandardScaler()</pre><b>In a Jupyter environment, please rerun this cell to show the HTML representation or trust the notebook. <br />On GitHub, the HTML representation is unable to render, please try loading this page with nbviewer.org.</b></div><div class=\"sk-container\" hidden><div class=\"sk-item\"><div class=\"sk-estimator sk-toggleable\"><input class=\"sk-toggleable__control sk-hidden--visually\" id=\"sk-estimator-id-2\" type=\"checkbox\" checked><label for=\"sk-estimator-id-2\" class=\"sk-toggleable__label sk-toggleable__label-arrow\">StandardScaler</label><div class=\"sk-toggleable__content\"><pre>StandardScaler()</pre></div></div></div></div></div>"
     },
     "execution_count": 36,
     "metadata": {},
     "output_type": "execute_result"
    }
   ],
   "source": [
    "scaler.fit(X_train)"
   ],
   "metadata": {
    "collapsed": false,
    "pycharm": {
     "name": "#%%\n"
    },
    "ExecuteTime": {
     "end_time": "2023-06-13T22:27:37.891856200Z",
     "start_time": "2023-06-13T22:27:37.644513800Z"
    }
   }
  },
  {
   "cell_type": "code",
   "execution_count": 37,
   "outputs": [],
   "source": [
    "X_train_scaled = scaler.transform(X_train)\n",
    "X_test_scaled = scaler.transform(X_test)"
   ],
   "metadata": {
    "collapsed": false,
    "pycharm": {
     "name": "#%%\n"
    },
    "ExecuteTime": {
     "end_time": "2023-06-13T22:27:38.039637300Z",
     "start_time": "2023-06-13T22:27:37.824028400Z"
    }
   }
  },
  {
   "cell_type": "code",
   "execution_count": 38,
   "outputs": [],
   "source": [
    "knn = KNeighborsClassifier()"
   ],
   "metadata": {
    "collapsed": false,
    "pycharm": {
     "name": "#%%\n"
    },
    "ExecuteTime": {
     "end_time": "2023-06-13T22:27:38.074781900Z",
     "start_time": "2023-06-13T22:27:37.971620500Z"
    }
   }
  },
  {
   "cell_type": "code",
   "execution_count": 39,
   "outputs": [
    {
     "data": {
      "text/plain": "KNeighborsClassifier()",
      "text/html": "<style>#sk-container-id-3 {color: black;background-color: white;}#sk-container-id-3 pre{padding: 0;}#sk-container-id-3 div.sk-toggleable {background-color: white;}#sk-container-id-3 label.sk-toggleable__label {cursor: pointer;display: block;width: 100%;margin-bottom: 0;padding: 0.3em;box-sizing: border-box;text-align: center;}#sk-container-id-3 label.sk-toggleable__label-arrow:before {content: \"▸\";float: left;margin-right: 0.25em;color: #696969;}#sk-container-id-3 label.sk-toggleable__label-arrow:hover:before {color: black;}#sk-container-id-3 div.sk-estimator:hover label.sk-toggleable__label-arrow:before {color: black;}#sk-container-id-3 div.sk-toggleable__content {max-height: 0;max-width: 0;overflow: hidden;text-align: left;background-color: #f0f8ff;}#sk-container-id-3 div.sk-toggleable__content pre {margin: 0.2em;color: black;border-radius: 0.25em;background-color: #f0f8ff;}#sk-container-id-3 input.sk-toggleable__control:checked~div.sk-toggleable__content {max-height: 200px;max-width: 100%;overflow: auto;}#sk-container-id-3 input.sk-toggleable__control:checked~label.sk-toggleable__label-arrow:before {content: \"▾\";}#sk-container-id-3 div.sk-estimator input.sk-toggleable__control:checked~label.sk-toggleable__label {background-color: #d4ebff;}#sk-container-id-3 div.sk-label input.sk-toggleable__control:checked~label.sk-toggleable__label {background-color: #d4ebff;}#sk-container-id-3 input.sk-hidden--visually {border: 0;clip: rect(1px 1px 1px 1px);clip: rect(1px, 1px, 1px, 1px);height: 1px;margin: -1px;overflow: hidden;padding: 0;position: absolute;width: 1px;}#sk-container-id-3 div.sk-estimator {font-family: monospace;background-color: #f0f8ff;border: 1px dotted black;border-radius: 0.25em;box-sizing: border-box;margin-bottom: 0.5em;}#sk-container-id-3 div.sk-estimator:hover {background-color: #d4ebff;}#sk-container-id-3 div.sk-parallel-item::after {content: \"\";width: 100%;border-bottom: 1px solid gray;flex-grow: 1;}#sk-container-id-3 div.sk-label:hover label.sk-toggleable__label {background-color: #d4ebff;}#sk-container-id-3 div.sk-serial::before {content: \"\";position: absolute;border-left: 1px solid gray;box-sizing: border-box;top: 0;bottom: 0;left: 50%;z-index: 0;}#sk-container-id-3 div.sk-serial {display: flex;flex-direction: column;align-items: center;background-color: white;padding-right: 0.2em;padding-left: 0.2em;position: relative;}#sk-container-id-3 div.sk-item {position: relative;z-index: 1;}#sk-container-id-3 div.sk-parallel {display: flex;align-items: stretch;justify-content: center;background-color: white;position: relative;}#sk-container-id-3 div.sk-item::before, #sk-container-id-3 div.sk-parallel-item::before {content: \"\";position: absolute;border-left: 1px solid gray;box-sizing: border-box;top: 0;bottom: 0;left: 50%;z-index: -1;}#sk-container-id-3 div.sk-parallel-item {display: flex;flex-direction: column;z-index: 1;position: relative;background-color: white;}#sk-container-id-3 div.sk-parallel-item:first-child::after {align-self: flex-end;width: 50%;}#sk-container-id-3 div.sk-parallel-item:last-child::after {align-self: flex-start;width: 50%;}#sk-container-id-3 div.sk-parallel-item:only-child::after {width: 0;}#sk-container-id-3 div.sk-dashed-wrapped {border: 1px dashed gray;margin: 0 0.4em 0.5em 0.4em;box-sizing: border-box;padding-bottom: 0.4em;background-color: white;}#sk-container-id-3 div.sk-label label {font-family: monospace;font-weight: bold;display: inline-block;line-height: 1.2em;}#sk-container-id-3 div.sk-label-container {text-align: center;}#sk-container-id-3 div.sk-container {/* jupyter's `normalize.less` sets `[hidden] { display: none; }` but bootstrap.min.css set `[hidden] { display: none !important; }` so we also need the `!important` here to be able to override the default hidden behavior on the sphinx rendered scikit-learn.org. See: https://github.com/scikit-learn/scikit-learn/issues/21755 */display: inline-block !important;position: relative;}#sk-container-id-3 div.sk-text-repr-fallback {display: none;}</style><div id=\"sk-container-id-3\" class=\"sk-top-container\"><div class=\"sk-text-repr-fallback\"><pre>KNeighborsClassifier()</pre><b>In a Jupyter environment, please rerun this cell to show the HTML representation or trust the notebook. <br />On GitHub, the HTML representation is unable to render, please try loading this page with nbviewer.org.</b></div><div class=\"sk-container\" hidden><div class=\"sk-item\"><div class=\"sk-estimator sk-toggleable\"><input class=\"sk-toggleable__control sk-hidden--visually\" id=\"sk-estimator-id-3\" type=\"checkbox\" checked><label for=\"sk-estimator-id-3\" class=\"sk-toggleable__label sk-toggleable__label-arrow\">KNeighborsClassifier</label><div class=\"sk-toggleable__content\"><pre>KNeighborsClassifier()</pre></div></div></div></div></div>"
     },
     "execution_count": 39,
     "metadata": {},
     "output_type": "execute_result"
    }
   ],
   "source": [
    "knn.fit(X_train_scaled, y_train)"
   ],
   "metadata": {
    "collapsed": false,
    "pycharm": {
     "name": "#%%\n"
    },
    "ExecuteTime": {
     "end_time": "2023-06-13T22:27:38.090597700Z",
     "start_time": "2023-06-13T22:27:37.988336600Z"
    }
   }
  },
  {
   "cell_type": "code",
   "execution_count": 40,
   "outputs": [],
   "source": [
    "y_pred = knn.predict(X_test_scaled)"
   ],
   "metadata": {
    "collapsed": false,
    "pycharm": {
     "name": "#%%\n"
    },
    "ExecuteTime": {
     "end_time": "2023-06-13T22:27:42.608817400Z",
     "start_time": "2023-06-13T22:27:38.059520200Z"
    }
   }
  },
  {
   "cell_type": "code",
   "execution_count": 41,
   "outputs": [
    {
     "data": {
      "text/plain": "0.9081961501611358"
     },
     "execution_count": 41,
     "metadata": {},
     "output_type": "execute_result"
    }
   ],
   "source": [
    "accuracy_score(y_test, y_pred)"
   ],
   "metadata": {
    "collapsed": false,
    "pycharm": {
     "name": "#%%\n"
    },
    "ExecuteTime": {
     "end_time": "2023-06-13T22:27:42.622294600Z",
     "start_time": "2023-06-13T22:27:42.612363300Z"
    }
   }
  },
  {
   "cell_type": "code",
   "execution_count": 42,
   "outputs": [],
   "source": [
    "# for model in models:\n",
    "#\n",
    "#     start_time = time.time()\n",
    "#     model.fit(X_train_scaled, y_train)\n",
    "#\n",
    "#\n",
    "#\n",
    "#     y_pred = model.predict(X_test_scaled)\n",
    "#\n",
    "#     end_time = time.time()\n",
    "#\n",
    "#     print(model.__class__.__name__)\n",
    "#\n",
    "#     print('Time Taken : ', end_time - start_time)\n",
    "#\n",
    "#     print('Accuracy Score :',  accuracy_score(y_test, y_pred))\n",
    "#     print('f1 Score :',  f1_score(y_test, y_pred))\n",
    "#     print('Recall Score :',  recall_score(y_test, y_pred))\n",
    "#     print('Precision Score :',  precision_score(y_test, y_pred))\n",
    "#\n",
    "#     print('\\n')"
   ],
   "metadata": {
    "collapsed": false,
    "pycharm": {
     "name": "#%%\n"
    },
    "ExecuteTime": {
     "end_time": "2023-06-13T22:27:42.632249100Z",
     "start_time": "2023-06-13T22:27:42.628509900Z"
    }
   }
  },
  {
   "cell_type": "code",
   "execution_count": 43,
   "outputs": [],
   "source": [
    "import pickle\n",
    "\n",
    "# Assuming you have a trained model object named \"model\"\n",
    "with open('model.pkl', 'wb') as f:\n",
    "    pickle.dump(xgb, f)"
   ],
   "metadata": {
    "collapsed": false,
    "pycharm": {
     "name": "#%%\n"
    },
    "ExecuteTime": {
     "end_time": "2023-06-13T22:27:42.672218900Z",
     "start_time": "2023-06-13T22:27:42.640391900Z"
    }
   }
  },
  {
   "cell_type": "code",
   "execution_count": 44,
   "outputs": [
    {
     "data": {
      "text/plain": "(45924, 106)"
     },
     "execution_count": 44,
     "metadata": {},
     "output_type": "execute_result"
    }
   ],
   "source": [
    "X_train.shape"
   ],
   "metadata": {
    "collapsed": false,
    "pycharm": {
     "name": "#%%\n"
    },
    "ExecuteTime": {
     "end_time": "2023-06-13T22:27:42.713546900Z",
     "start_time": "2023-06-13T22:27:42.660481800Z"
    }
   }
  },
  {
   "cell_type": "code",
   "execution_count": 45,
   "outputs": [],
   "source": [
    "with open('model.pkl', 'rb') as f:\n",
    "    model1 = pickle.load(f)"
   ],
   "metadata": {
    "collapsed": false,
    "pycharm": {
     "name": "#%%\n"
    },
    "ExecuteTime": {
     "end_time": "2023-06-13T22:27:42.713546900Z",
     "start_time": "2023-06-13T22:27:42.678781200Z"
    }
   }
  },
  {
   "cell_type": "code",
   "execution_count": 46,
   "outputs": [],
   "source": [
    "from preprocessing import get_df"
   ],
   "metadata": {
    "collapsed": false,
    "ExecuteTime": {
     "end_time": "2023-06-13T22:27:43.112372800Z",
     "start_time": "2023-06-13T22:27:42.698796700Z"
    }
   }
  },
  {
   "cell_type": "code",
   "execution_count": 47,
   "outputs": [],
   "source": [
    "data_txt = 'http://rgipt.ac.in'"
   ],
   "metadata": {
    "collapsed": false,
    "ExecuteTime": {
     "end_time": "2023-06-13T22:27:43.118450300Z",
     "start_time": "2023-06-13T22:27:43.118450300Z"
    }
   }
  },
  {
   "cell_type": "code",
   "execution_count": 48,
   "outputs": [],
   "source": [
    "import urllib.parse\n",
    "\n",
    "\n",
    "data_txt =  urllib.parse.quote(data_txt)\n",
    "\n",
    "\n"
   ],
   "metadata": {
    "collapsed": false,
    "ExecuteTime": {
     "end_time": "2023-06-13T22:27:43.134157400Z",
     "start_time": "2023-06-13T22:27:43.118450300Z"
    }
   }
  },
  {
   "cell_type": "code",
   "execution_count": 49,
   "outputs": [],
   "source": [
    "df_user = get_df(data_txt)"
   ],
   "metadata": {
    "collapsed": false,
    "ExecuteTime": {
     "end_time": "2023-06-13T22:27:45.245969500Z",
     "start_time": "2023-06-13T22:27:43.134157400Z"
    }
   }
  },
  {
   "cell_type": "code",
   "execution_count": 50,
   "outputs": [],
   "source": [
    "from url_feature import get_url_feature"
   ],
   "metadata": {
    "collapsed": false,
    "ExecuteTime": {
     "end_time": "2023-06-13T22:27:45.248546200Z",
     "start_time": "2023-06-13T22:27:45.221591500Z"
    }
   }
  },
  {
   "cell_type": "code",
   "execution_count": 51,
   "outputs": [
    {
     "data": {
      "text/plain": "('', 'http%3A//rgipt.ac.in', 'rgipt.ac.in', '')"
     },
     "execution_count": 51,
     "metadata": {},
     "output_type": "execute_result"
    }
   ],
   "source": [
    "get_url_feature(data_txt)"
   ],
   "metadata": {
    "collapsed": false,
    "ExecuteTime": {
     "end_time": "2023-06-13T22:27:45.288898500Z",
     "start_time": "2023-06-13T22:27:45.245969500Z"
    }
   }
  },
  {
   "cell_type": "code",
   "execution_count": 52,
   "outputs": [],
   "source": [
    "scaler = StandardScaler()\n",
    "df_user = scaler.fit_transform(df_user)"
   ],
   "metadata": {
    "collapsed": false,
    "ExecuteTime": {
     "end_time": "2023-06-13T22:27:45.288898500Z",
     "start_time": "2023-06-13T22:27:45.248546200Z"
    }
   }
  },
  {
   "cell_type": "code",
   "execution_count": 53,
   "outputs": [],
   "source": [
    "res = model1.predict(df_user)"
   ],
   "metadata": {
    "collapsed": false,
    "ExecuteTime": {
     "end_time": "2023-06-13T22:27:45.311783400Z",
     "start_time": "2023-06-13T22:27:45.268768500Z"
    }
   }
  },
  {
   "cell_type": "code",
   "execution_count": 53,
   "outputs": [],
   "source": [],
   "metadata": {
    "collapsed": false,
    "ExecuteTime": {
     "end_time": "2023-06-13T22:27:45.311783400Z",
     "start_time": "2023-06-13T22:27:45.286837500Z"
    }
   }
  },
  {
   "cell_type": "code",
   "execution_count": 54,
   "outputs": [
    {
     "data": {
      "text/plain": "qty_dot_url             int64\nqty_hyphen_url          int64\nqty_underline_url       int64\nqty_slash_url           int64\nqty_questionmark_url    int64\n                        ...  \ntls_ssl_certificate     int64\nqty_redirects           int64\nurl_google_index        int64\ndomain_google_index     int64\nurl_shortened           int64\nLength: 106, dtype: object"
     },
     "execution_count": 54,
     "metadata": {},
     "output_type": "execute_result"
    }
   ],
   "source": [
    "X_train.dtypes"
   ],
   "metadata": {
    "collapsed": false,
    "ExecuteTime": {
     "end_time": "2023-06-13T22:27:45.311783400Z",
     "start_time": "2023-06-13T22:27:45.293467700Z"
    }
   }
  },
  {
   "cell_type": "code",
   "execution_count": 55,
   "outputs": [
    {
     "data": {
      "text/plain": "Index(['qty_dot_url', 'qty_hyphen_url', 'qty_underline_url', 'qty_slash_url',\n       'qty_questionmark_url', 'qty_equal_url', 'qty_at_url', 'qty_and_url',\n       'qty_exclamation_url', 'qty_space_url',\n       ...\n       'time_response', 'domain_spf', 'qty_ip_resolved', 'ttl_hostname',\n       'tls_ssl_certificate', 'qty_redirects', 'url_google_index',\n       'domain_google_index', 'url_shortened', 'phishing'],\n      dtype='object', length=107)"
     },
     "execution_count": 55,
     "metadata": {},
     "output_type": "execute_result"
    }
   ],
   "source": [
    "df.columns"
   ],
   "metadata": {
    "collapsed": false,
    "ExecuteTime": {
     "end_time": "2023-06-13T22:27:45.343118200Z",
     "start_time": "2023-06-13T22:27:45.301091Z"
    }
   }
  },
  {
   "cell_type": "code",
   "execution_count": 56,
   "outputs": [
    {
     "ename": "IndexError",
     "evalue": "index 1 is out of bounds for axis 0 with size 1",
     "output_type": "error",
     "traceback": [
      "\u001B[1;31m---------------------------------------------------------------------------\u001B[0m",
      "\u001B[1;31mIndexError\u001B[0m                                Traceback (most recent call last)",
      "Cell \u001B[1;32mIn[56], line 1\u001B[0m\n\u001B[1;32m----> 1\u001B[0m \u001B[43mres\u001B[49m\u001B[43m[\u001B[49m\u001B[38;5;241;43m1\u001B[39;49m\u001B[43m]\u001B[49m\n",
      "\u001B[1;31mIndexError\u001B[0m: index 1 is out of bounds for axis 0 with size 1"
     ]
    }
   ],
   "source": [
    "res[1]"
   ],
   "metadata": {
    "collapsed": false,
    "ExecuteTime": {
     "end_time": "2023-06-13T22:27:46.468807Z",
     "start_time": "2023-06-13T22:27:45.318826900Z"
    }
   }
  },
  {
   "cell_type": "code",
   "execution_count": null,
   "outputs": [],
   "source": [
    "df"
   ],
   "metadata": {
    "collapsed": false
   }
  },
  {
   "cell_type": "code",
   "execution_count": null,
   "outputs": [],
   "source": [],
   "metadata": {
    "collapsed": false
   }
  }
 ],
 "metadata": {
  "kernelspec": {
   "display_name": "Python 3",
   "language": "python",
   "name": "python3"
  },
  "language_info": {
   "codemirror_mode": {
    "name": "ipython",
    "version": 2
   },
   "file_extension": ".py",
   "mimetype": "text/x-python",
   "name": "python",
   "nbconvert_exporter": "python",
   "pygments_lexer": "ipython2",
   "version": "2.7.6"
  }
 },
 "nbformat": 4,
 "nbformat_minor": 0
}
